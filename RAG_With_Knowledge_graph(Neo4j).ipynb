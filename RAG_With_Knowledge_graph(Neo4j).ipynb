{
  "nbformat": 4,
  "nbformat_minor": 0,
  "metadata": {
    "colab": {
      "provenance": [],
      "gpuType": "T4",
      "include_colab_link": true
    },
    "kernelspec": {
      "name": "python3",
      "display_name": "Python 3"
    },
    "language_info": {
      "name": "python"
    },
    "accelerator": "GPU",
    "widgets": {
      "application/vnd.jupyter.widget-state+json": {
        "2cc1d500a323476797cb0b283ba77c37": {
          "model_module": "yfiles-jupyter-graphs",
          "model_name": "GraphModel",
          "model_module_version": "^1.7.2",
          "state": {
            "_context_pane_mapping": [
              {
                "id": "Neighborhood",
                "title": "Neighborhood"
              },
              {
                "id": "Data",
                "title": "Data"
              },
              {
                "id": "Search",
                "title": "Search"
              },
              {
                "id": "About",
                "title": "About"
              }
            ],
            "_data_importer": "neo4j",
            "_directed": true,
            "_dom_classes": [],
            "_edges": [
              {
                "id": 1152922604118474800,
                "start": 1,
                "end": 2,
                "properties": {
                  "label": "RELEVANT"
                },
                "label": "RELEVANT",
                "color": "#673AB7",
                "thickness_factor": 1,
                "directed": true
              },
              {
                "id": 1155174403932160000,
                "start": 1,
                "end": 3,
                "properties": {
                  "label": "RELEVANT"
                },
                "label": "RELEVANT",
                "color": "#673AB7",
                "thickness_factor": 1,
                "directed": true
              },
              {
                "id": 1152923703630102500,
                "start": 1,
                "end": 4,
                "properties": {
                  "label": "OCCURRED"
                },
                "label": "OCCURRED",
                "color": "#CDDC39",
                "thickness_factor": 1,
                "directed": true
              },
              {
                "id": 1152924803141730300,
                "start": 1,
                "end": 5,
                "properties": {
                  "label": "CULTURAL_ZENITH"
                },
                "label": "CULTURAL_ZENITH",
                "color": "#9E9E9E",
                "thickness_factor": 1,
                "directed": true
              },
              {
                "id": 1155176602955415600,
                "start": 1,
                "end": 6,
                "properties": {
                  "label": "CULTURAL_ZENITH"
                },
                "label": "CULTURAL_ZENITH",
                "color": "#9E9E9E",
                "thickness_factor": 1,
                "directed": true
              },
              {
                "id": 1152930300699869200,
                "start": 1,
                "end": 13,
                "properties": {
                  "label": "STARTED_IN"
                },
                "label": "STARTED_IN",
                "color": "#9C27B0",
                "thickness_factor": 1,
                "directed": true
              },
              {
                "id": 1152932499723124700,
                "start": 1,
                "end": 16,
                "properties": {
                  "label": "FOUNDED_IN"
                },
                "label": "FOUNDED_IN",
                "color": "#2196F3",
                "thickness_factor": 1,
                "directed": true
              },
              {
                "id": 1153075436234735600,
                "start": 3,
                "end": 330,
                "properties": {
                  "label": "REFERS_TO"
                },
                "label": "REFERS_TO",
                "color": "#4CAF50",
                "thickness_factor": 1,
                "directed": true
              },
              {
                "id": 1153076535746363400,
                "start": 3,
                "end": 331,
                "properties": {
                  "label": "MADE_BY"
                },
                "label": "MADE_BY",
                "color": "#F44336",
                "thickness_factor": 1,
                "directed": true
              },
              {
                "id": 1155328335560048600,
                "start": 3,
                "end": 346,
                "properties": {
                  "label": "MADE_BY"
                },
                "label": "MADE_BY",
                "color": "#F44336",
                "thickness_factor": 1,
                "directed": true
              },
              {
                "id": 1152925902653358000,
                "start": 7,
                "end": 1,
                "properties": {
                  "label": "COMMENTED_ON"
                },
                "label": "COMMENTED_ON",
                "color": "#607D8B",
                "thickness_factor": 1,
                "directed": true
              },
              {
                "id": 1152925902653358000,
                "start": 8,
                "end": 1,
                "properties": {
                  "label": "COMMENTED_ON"
                },
                "label": "COMMENTED_ON",
                "color": "#607D8B",
                "thickness_factor": 1,
                "directed": true
              },
              {
                "id": 1152927002164985900,
                "start": 9,
                "end": 1,
                "properties": {
                  "label": "DESCRIBED_AS"
                },
                "label": "DESCRIBED_AS",
                "color": "#673AB7",
                "thickness_factor": 1,
                "directed": true
              },
              {
                "id": 1152928101676613600,
                "start": 10,
                "end": 11,
                "properties": {
                  "label": "CREATED_IN"
                },
                "label": "CREATED_IN",
                "color": "#CDDC39",
                "thickness_factor": 1,
                "directed": true
              },
              {
                "id": 1152929201188241400,
                "start": 11,
                "end": 12,
                "properties": {
                  "label": "LOCATED_IN"
                },
                "label": "LOCATED_IN",
                "color": "#9E9E9E",
                "thickness_factor": 1,
                "directed": true
              },
              {
                "id": 1152931400211497000,
                "start": 14,
                "end": 15,
                "properties": {
                  "label": "EVOLVED_INTO"
                },
                "label": "EVOLVED_INTO",
                "color": "#9C27B0",
                "thickness_factor": 1,
                "directed": true
              },
              {
                "id": 6917541122268987000,
                "start": 17,
                "end": 22,
                "properties": {
                  "label": "EXPEDITIONS_IN"
                },
                "label": "EXPEDITIONS_IN",
                "color": "#2196F3",
                "thickness_factor": 1,
                "directed": true
              },
              {
                "id": 6917541122268987000,
                "start": 17,
                "end": 23,
                "properties": {
                  "label": "EXPEDITIONS_IN"
                },
                "label": "EXPEDITIONS_IN",
                "color": "#2196F3",
                "thickness_factor": 1,
                "directed": true
              },
              {
                "id": 6917541122268987000,
                "start": 17,
                "end": 24,
                "properties": {
                  "label": "EXPEDITIONS_IN"
                },
                "label": "EXPEDITIONS_IN",
                "color": "#2196F3",
                "thickness_factor": 1,
                "directed": true
              },
              {
                "id": 1152934698746380300,
                "start": 18,
                "end": 19,
                "properties": {
                  "label": "FIRST_DUKE_OF"
                },
                "label": "FIRST_DUKE_OF",
                "color": "#4CAF50",
                "thickness_factor": 1,
                "directed": true
              },
              {
                "id": 6917543321292243000,
                "start": 18,
                "end": 25,
                "properties": {
                  "label": "BAPTISED_IN"
                },
                "label": "BAPTISED_IN",
                "color": "#F44336",
                "thickness_factor": 1,
                "directed": true
              },
              {
                "id": 1152936897769635800,
                "start": 20,
                "end": 21,
                "properties": {
                  "label": "DEFEATED_BY"
                },
                "label": "DEFEATED_BY",
                "color": "#607D8B",
                "thickness_factor": 1,
                "directed": true
              },
              {
                "id": 1152937997281263600,
                "start": 20,
                "end": 21,
                "properties": {
                  "label": "CONFLICT"
                },
                "label": "CONFLICT",
                "color": "#673AB7",
                "thickness_factor": 1,
                "directed": true
              },
              {
                "id": 1152981977746374700,
                "start": 22,
                "end": 144,
                "properties": {
                  "label": "HAS_BEER_STYLE"
                },
                "label": "HAS_BEER_STYLE",
                "color": "#CDDC39",
                "thickness_factor": 1,
                "directed": true
              },
              {
                "id": 1152989674327769000,
                "start": 22,
                "end": 167,
                "properties": {
                  "label": "STORAGE"
                },
                "label": "STORAGE",
                "color": "#9E9E9E",
                "thickness_factor": 1,
                "directed": true
              },
              {
                "id": 1152939096792891400,
                "start": 28,
                "end": 27,
                "properties": {
                  "label": "CONVERSION"
                },
                "label": "CONVERSION",
                "color": "#9C27B0",
                "thickness_factor": 1,
                "directed": true
              },
              {
                "id": 1152940196304519200,
                "start": 29,
                "end": 30,
                "properties": {
                  "label": "SUCCESSION"
                },
                "label": "SUCCESSION",
                "color": "#2196F3",
                "thickness_factor": 1,
                "directed": true
              },
              {
                "id": 6917548818850382000,
                "start": 31,
                "end": 62,
                "properties": {
                  "label": "END"
                },
                "label": "END",
                "color": "#4CAF50",
                "thickness_factor": 1,
                "directed": true
              },
              {
                "id": 1152942395327774700,
                "start": 32,
                "end": 33,
                "properties": {
                  "label": "COMMENCEMENT"
                },
                "label": "COMMENCEMENT",
                "color": "#F44336",
                "thickness_factor": 1,
                "directed": true
              },
              {
                "id": 1152943494839402500,
                "start": 35,
                "end": 36,
                "properties": {
                  "label": "INSCRIPTION"
                },
                "label": "INSCRIPTION",
                "color": "#607D8B",
                "thickness_factor": 1,
                "directed": true
              },
              {
                "id": 1152944594351030300,
                "start": 35,
                "end": 37,
                "properties": {
                  "label": "LOCATION"
                },
                "label": "LOCATION",
                "color": "#673AB7",
                "thickness_factor": 1,
                "directed": true
              },
              {
                "id": 1155196394164715500,
                "start": 35,
                "end": 38,
                "properties": {
                  "label": "LOCATION"
                },
                "label": "LOCATION",
                "color": "#673AB7",
                "thickness_factor": 1,
                "directed": true
              },
              {
                "id": 1152945693862658000,
                "start": 39,
                "end": 40,
                "properties": {
                  "label": "UNIFICATION"
                },
                "label": "UNIFICATION",
                "color": "#CDDC39",
                "thickness_factor": 1,
                "directed": true
              },
              {
                "id": 1152946793374285800,
                "start": 41,
                "end": 42,
                "properties": {
                  "label": "ASSERTION"
                },
                "label": "ASSERTION",
                "color": "#9E9E9E",
                "thickness_factor": 1,
                "directed": true
              },
              {
                "id": 1152944594351030300,
                "start": 42,
                "end": 43,
                "properties": {
                  "label": "LOCATION"
                },
                "label": "LOCATION",
                "color": "#673AB7",
                "thickness_factor": 1,
                "directed": true
              },
              {
                "id": 1152947892885913600,
                "start": 44,
                "end": 45,
                "properties": {
                  "label": "FOUNDATION"
                },
                "label": "FOUNDATION",
                "color": "#9C27B0",
                "thickness_factor": 1,
                "directed": true
              },
              {
                "id": 1152948992397541400,
                "start": 46,
                "end": 47,
                "properties": {
                  "label": "EMERGENCE"
                },
                "label": "EMERGENCE",
                "color": "#2196F3",
                "thickness_factor": 1,
                "directed": true
              },
              {
                "id": 1152950091909169200,
                "start": 48,
                "end": 49,
                "properties": {
                  "label": "EXPANSION"
                },
                "label": "EXPANSION",
                "color": "#4CAF50",
                "thickness_factor": 1,
                "directed": true
              },
              {
                "id": 1152951191420797000,
                "start": 50,
                "end": 51,
                "properties": {
                  "label": "PEAK"
                },
                "label": "PEAK",
                "color": "#F44336",
                "thickness_factor": 1,
                "directed": true
              },
              {
                "id": 1152952290932424700,
                "start": 52,
                "end": 53,
                "properties": {
                  "label": "ORIGIN"
                },
                "label": "ORIGIN",
                "color": "#607D8B",
                "thickness_factor": 1,
                "directed": true
              },
              {
                "id": 6917558714455032000,
                "start": 54,
                "end": 63,
                "properties": {
                  "label": "PEAK"
                },
                "label": "PEAK",
                "color": "#F44336",
                "thickness_factor": 1,
                "directed": true
              },
              {
                "id": 6917558714455032000,
                "start": 54,
                "end": 64,
                "properties": {
                  "label": "PEAK"
                },
                "label": "PEAK",
                "color": "#F44336",
                "thickness_factor": 1,
                "directed": true
              },
              {
                "id": 1152947892885913600,
                "start": 55,
                "end": 56,
                "properties": {
                  "label": "FOUNDATION"
                },
                "label": "FOUNDATION",
                "color": "#9C27B0",
                "thickness_factor": 1,
                "directed": true
              },
              {
                "id": 1152953390444052500,
                "start": 57,
                "end": 58,
                "properties": {
                  "label": "EXTINCTION"
                },
                "label": "EXTINCTION",
                "color": "#673AB7",
                "thickness_factor": 1,
                "directed": true
              },
              {
                "id": 1152953390444052500,
                "start": 59,
                "end": 60,
                "properties": {
                  "label": "EXTINCTION"
                },
                "label": "EXTINCTION",
                "color": "#673AB7",
                "thickness_factor": 1,
                "directed": true
              },
              {
                "id": 1152954489955680300,
                "start": 61,
                "end": 30,
                "properties": {
                  "label": "RULER"
                },
                "label": "RULER",
                "color": "#CDDC39",
                "thickness_factor": 1,
                "directed": true
              },
              {
                "id": 1152955589467308000,
                "start": 84,
                "end": 85,
                "properties": {
                  "label": "MENTIONED_IN_CONNECTION_WITH"
                },
                "label": "MENTIONED_IN_CONNECTION_WITH",
                "color": "#9E9E9E",
                "thickness_factor": 1,
                "directed": true
              },
              {
                "id": 1152956688978935800,
                "start": 87,
                "end": 88,
                "properties": {
                  "label": "LICENSE"
                },
                "label": "LICENSE",
                "color": "#9C27B0",
                "thickness_factor": 1,
                "directed": true
              },
              {
                "id": 1152957788490563600,
                "start": 90,
                "end": 91,
                "properties": {
                  "label": "NOTED_BY"
                },
                "label": "NOTED_BY",
                "color": "#2196F3",
                "thickness_factor": 1,
                "directed": true
              },
              {
                "id": 1152958888002191400,
                "start": 90,
                "end": 92,
                "properties": {
                  "label": "ORIGINATED_IN"
                },
                "label": "ORIGINATED_IN",
                "color": "#4CAF50",
                "thickness_factor": 1,
                "directed": true
              }
            ],
            "_graph_layout": {},
            "_highlight": [],
            "_license": {},
            "_model_module": "yfiles-jupyter-graphs",
            "_model_module_version": "^1.7.2",
            "_model_name": "GraphModel",
            "_neighborhood": {},
            "_nodes": [
              {
                "id": 1,
                "properties": {
                  "id": "10Th Century",
                  "label": "__Entity__:Time period"
                },
                "color": "#2196F3",
                "styles": {},
                "label": "10Th Century",
                "scale_factor": 1,
                "type": "#2196F3",
                "size": [
                  55,
                  55
                ],
                "position": [
                  0,
                  0
                ]
              },
              {
                "id": 2,
                "properties": {
                  "id": "European History",
                  "label": "__Entity__:History"
                },
                "color": "#4CAF50",
                "styles": {},
                "label": "European History",
                "scale_factor": 1,
                "type": "#4CAF50",
                "size": [
                  55,
                  55
                ],
                "position": [
                  0,
                  0
                ]
              },
              {
                "id": 3,
                "properties": {
                  "id": "China",
                  "label": "Country:__Entity__:Location"
                },
                "color": "#F44336",
                "styles": {},
                "label": "China",
                "scale_factor": 1,
                "type": "#F44336",
                "size": [
                  55,
                  55
                ],
                "position": [
                  0,
                  0
                ]
              },
              {
                "id": 4,
                "properties": {
                  "id": "Political Upheaval",
                  "label": "__Entity__:Event"
                },
                "color": "#607D8B",
                "styles": {},
                "label": "Political Upheaval",
                "scale_factor": 1,
                "type": "#607D8B",
                "size": [
                  55,
                  55
                ],
                "position": [
                  0,
                  0
                ]
              },
              {
                "id": 5,
                "properties": {
                  "id": "Islamdom",
                  "label": "__Entity__:Culture"
                },
                "color": "#673AB7",
                "styles": {},
                "label": "Islamdom",
                "scale_factor": 1,
                "type": "#673AB7",
                "size": [
                  55,
                  55
                ],
                "position": [
                  0,
                  0
                ]
              },
              {
                "id": 6,
                "properties": {
                  "id": "Spain",
                  "label": "Country:__Entity__"
                },
                "color": "#CDDC39",
                "styles": {},
                "label": "Spain",
                "scale_factor": 1,
                "type": "#CDDC39",
                "size": [
                  55,
                  55
                ],
                "position": [
                  0,
                  0
                ]
              },
              {
                "id": 13,
                "properties": {
                  "id": "Medieval Warm Period",
                  "label": "__Entity__:Event"
                },
                "color": "#607D8B",
                "styles": {},
                "label": "Medieval Warm Period",
                "scale_factor": 1,
                "type": "#607D8B",
                "size": [
                  55,
                  55
                ],
                "position": [
                  0,
                  0
                ]
              },
              {
                "id": 16,
                "properties": {
                  "id": "Cluny",
                  "label": "__Entity__:Organization"
                },
                "color": "#9E9E9E",
                "styles": {},
                "label": "Cluny",
                "scale_factor": 1,
                "type": "#9E9E9E",
                "size": [
                  55,
                  55
                ],
                "position": [
                  0,
                  0
                ]
              },
              {
                "id": 330,
                "properties": {
                  "id": "Jiǔ",
                  "label": "__Entity__:Concept"
                },
                "color": "#9C27B0",
                "styles": {},
                "label": "Jiǔ",
                "scale_factor": 1,
                "type": "#9C27B0",
                "size": [
                  55,
                  55
                ],
                "position": [
                  0,
                  0
                ]
              },
              {
                "id": 331,
                "properties": {
                  "id": "Sulima",
                  "label": "__Entity__:Concept"
                },
                "color": "#9C27B0",
                "styles": {},
                "label": "Sulima",
                "scale_factor": 1,
                "type": "#9C27B0",
                "size": [
                  55,
                  55
                ],
                "position": [
                  0,
                  0
                ]
              },
              {
                "id": 346,
                "properties": {
                  "id": "Lijiang Yinjiu",
                  "label": "__Entity__"
                },
                "color": "#2196F3",
                "styles": {},
                "label": "Lijiang Yinjiu",
                "scale_factor": 1,
                "type": "#2196F3",
                "size": [
                  55,
                  55
                ],
                "position": [
                  0,
                  0
                ]
              },
              {
                "id": 7,
                "properties": {
                  "id": "Lynn White",
                  "label": "__Entity__:Person"
                },
                "color": "#4CAF50",
                "styles": {},
                "label": "Lynn White",
                "scale_factor": 1,
                "type": "#4CAF50",
                "size": [
                  55,
                  55
                ],
                "position": [
                  0,
                  0
                ]
              },
              {
                "id": 8,
                "properties": {
                  "id": "Helen Waddell",
                  "label": "__Entity__:Person"
                },
                "color": "#4CAF50",
                "styles": {},
                "label": "Helen Waddell",
                "scale_factor": 1,
                "type": "#4CAF50",
                "size": [
                  55,
                  55
                ],
                "position": [
                  0,
                  0
                ]
              },
              {
                "id": 9,
                "properties": {
                  "id": "Lorenzo Valla",
                  "label": "__Entity__:Person"
                },
                "color": "#4CAF50",
                "styles": {},
                "label": "Lorenzo Valla",
                "scale_factor": 1,
                "type": "#4CAF50",
                "size": [
                  55,
                  55
                ],
                "position": [
                  0,
                  0
                ]
              },
              {
                "id": 10,
                "properties": {
                  "id": "Yogini Goddess",
                  "label": "__Entity__:Artifact"
                },
                "color": "#F44336",
                "styles": {},
                "label": "Yogini Goddess",
                "scale_factor": 1,
                "type": "#F44336",
                "size": [
                  55,
                  55
                ],
                "position": [
                  0,
                  0
                ]
              },
              {
                "id": 11,
                "properties": {
                  "id": "Kaveripakkam",
                  "label": "__Entity__:Place"
                },
                "color": "#607D8B",
                "styles": {},
                "label": "Kaveripakkam",
                "scale_factor": 1,
                "type": "#607D8B",
                "size": [
                  55,
                  55
                ],
                "position": [
                  0,
                  0
                ]
              },
              {
                "id": 12,
                "properties": {
                  "id": "Tamil Nadu",
                  "label": "__Entity__:Place"
                },
                "color": "#607D8B",
                "styles": {},
                "label": "Tamil Nadu",
                "scale_factor": 1,
                "type": "#607D8B",
                "size": [
                  55,
                  55
                ],
                "position": [
                  0,
                  0
                ]
              },
              {
                "id": 14,
                "properties": {
                  "id": "Viking Groups",
                  "label": "__Entity__:Group"
                },
                "color": "#673AB7",
                "styles": {},
                "label": "Viking Groups",
                "scale_factor": 1,
                "type": "#673AB7",
                "size": [
                  55,
                  55
                ],
                "position": [
                  0,
                  0
                ]
              },
              {
                "id": 15,
                "properties": {
                  "id": "Normans",
                  "label": "__Entity__:Group"
                },
                "color": "#673AB7",
                "styles": {},
                "label": "Normans",
                "scale_factor": 1,
                "type": "#673AB7",
                "size": [
                  55,
                  55
                ],
                "position": [
                  0,
                  0
                ]
              },
              {
                "id": 17,
                "properties": {
                  "id": "Magyar Cavalry",
                  "label": "__Entity__:Group"
                },
                "color": "#673AB7",
                "styles": {},
                "label": "Magyar Cavalry",
                "scale_factor": 1,
                "type": "#673AB7",
                "size": [
                  55,
                  55
                ],
                "position": [
                  0,
                  0
                ]
              },
              {
                "id": 22,
                "properties": {
                  "id": "Germany",
                  "label": "Country:__Entity__"
                },
                "color": "#CDDC39",
                "styles": {},
                "label": "Germany",
                "scale_factor": 1,
                "type": "#CDDC39",
                "size": [
                  55,
                  55
                ],
                "position": [
                  0,
                  0
                ]
              },
              {
                "id": 23,
                "properties": {
                  "id": "Italy",
                  "label": "__Entity__"
                },
                "color": "#2196F3",
                "styles": {},
                "label": "Italy",
                "scale_factor": 1,
                "type": "#2196F3",
                "size": [
                  55,
                  55
                ],
                "position": [
                  0,
                  0
                ]
              },
              {
                "id": 24,
                "properties": {
                  "id": "France",
                  "label": "__Entity__"
                },
                "color": "#2196F3",
                "styles": {},
                "label": "France",
                "scale_factor": 1,
                "type": "#2196F3",
                "size": [
                  55,
                  55
                ],
                "position": [
                  0,
                  0
                ]
              },
              {
                "id": 18,
                "properties": {
                  "id": "Mieszko I",
                  "label": "__Entity__:Person"
                },
                "color": "#4CAF50",
                "styles": {},
                "label": "Mieszko I",
                "scale_factor": 1,
                "type": "#4CAF50",
                "size": [
                  55,
                  55
                ],
                "position": [
                  0,
                  0
                ]
              },
              {
                "id": 19,
                "properties": {
                  "id": "Poland",
                  "label": "Country:__Entity__"
                },
                "color": "#CDDC39",
                "styles": {},
                "label": "Poland",
                "scale_factor": 1,
                "type": "#CDDC39",
                "size": [
                  55,
                  55
                ],
                "position": [
                  0,
                  0
                ]
              },
              {
                "id": 25,
                "properties": {
                  "id": "966",
                  "label": "__Entity__"
                },
                "color": "#2196F3",
                "styles": {},
                "label": "966",
                "scale_factor": 1,
                "type": "#2196F3",
                "size": [
                  55,
                  55
                ],
                "position": [
                  0,
                  0
                ]
              },
              {
                "id": 20,
                "properties": {
                  "id": "Khazar Kingdom",
                  "label": "__Entity__:Kingdom"
                },
                "color": "#CDDC39",
                "styles": {},
                "label": "Khazar Kingdom",
                "scale_factor": 1,
                "type": "#CDDC39",
                "size": [
                  55,
                  55
                ],
                "position": [
                  0,
                  0
                ]
              },
              {
                "id": 21,
                "properties": {
                  "id": "Kievan Rus",
                  "label": "Country:__Entity__:Kingdom"
                },
                "color": "#9E9E9E",
                "styles": {},
                "label": "Kievan Rus",
                "scale_factor": 1,
                "type": "#9E9E9E",
                "size": [
                  55,
                  55
                ],
                "position": [
                  0,
                  0
                ]
              },
              {
                "id": 144,
                "properties": {
                  "id": "Germany Regional Beer Types",
                  "label": "__Entity__:Beer style"
                },
                "color": "#9C27B0",
                "styles": {},
                "label": "Germany Regional Beer Types",
                "scale_factor": 1,
                "type": "#9C27B0",
                "size": [
                  55,
                  55
                ],
                "position": [
                  0,
                  0
                ]
              },
              {
                "id": 167,
                "properties": {
                  "id": "Beers",
                  "label": "__Entity__:Beverage"
                },
                "color": "#2196F3",
                "styles": {},
                "label": "Beers",
                "scale_factor": 1,
                "type": "#2196F3",
                "size": [
                  55,
                  55
                ],
                "position": [
                  0,
                  0
                ]
              },
              {
                "id": 28,
                "properties": {
                  "id": "Vladimir I",
                  "label": "__Entity__:Person"
                },
                "color": "#4CAF50",
                "styles": {},
                "label": "Vladimir I",
                "scale_factor": 1,
                "type": "#4CAF50",
                "size": [
                  55,
                  55
                ],
                "position": [
                  0,
                  0
                ]
              },
              {
                "id": 27,
                "properties": {
                  "id": "Christian",
                  "label": "Religion:__Entity__"
                },
                "color": "#4CAF50",
                "styles": {},
                "label": "Christian",
                "scale_factor": 1,
                "type": "#4CAF50",
                "size": [
                  55,
                  55
                ],
                "position": [
                  0,
                  0
                ]
              },
              {
                "id": 29,
                "properties": {
                  "id": "Maya Civilization",
                  "label": "__Entity__:Civilization"
                },
                "color": "#F44336",
                "styles": {},
                "label": "Maya Civilization",
                "scale_factor": 1,
                "type": "#F44336",
                "size": [
                  55,
                  55
                ],
                "position": [
                  0,
                  0
                ]
              },
              {
                "id": 30,
                "properties": {
                  "id": "Toltecs",
                  "label": "__Entity__:Civilization"
                },
                "color": "#F44336",
                "styles": {},
                "label": "Toltecs",
                "scale_factor": 1,
                "type": "#F44336",
                "size": [
                  55,
                  55
                ],
                "position": [
                  0,
                  0
                ]
              },
              {
                "id": 31,
                "properties": {
                  "id": "Great Moravia",
                  "label": "__Entity__:Kingdom"
                },
                "color": "#CDDC39",
                "styles": {},
                "label": "Great Moravia",
                "scale_factor": 1,
                "type": "#CDDC39",
                "size": [
                  55,
                  55
                ],
                "position": [
                  0,
                  0
                ]
              },
              {
                "id": 62,
                "properties": {
                  "id": "Collapse",
                  "label": "__Entity__"
                },
                "color": "#2196F3",
                "styles": {},
                "label": "Collapse",
                "scale_factor": 1,
                "type": "#2196F3",
                "size": [
                  55,
                  55
                ],
                "position": [
                  0,
                  0
                ]
              },
              {
                "id": 32,
                "properties": {
                  "id": "Buddhist Temple",
                  "label": "Construction:__Entity__"
                },
                "color": "#607D8B",
                "styles": {},
                "label": "Buddhist Temple",
                "scale_factor": 1,
                "type": "#607D8B",
                "size": [
                  55,
                  55
                ],
                "position": [
                  0,
                  0
                ]
              },
              {
                "id": 33,
                "properties": {
                  "id": "Bagan",
                  "label": "__Entity__:City"
                },
                "color": "#673AB7",
                "styles": {},
                "label": "Bagan",
                "scale_factor": 1,
                "type": "#673AB7",
                "size": [
                  55,
                  55
                ],
                "position": [
                  0,
                  0
                ]
              },
              {
                "id": 35,
                "properties": {
                  "id": "Laguna Copperplate Inscription",
                  "label": "__Entity__:Artifact"
                },
                "color": "#F44336",
                "styles": {},
                "label": "Laguna Copperplate Inscription",
                "scale_factor": 1,
                "type": "#F44336",
                "size": [
                  55,
                  55
                ],
                "position": [
                  0,
                  0
                ]
              },
              {
                "id": 36,
                "properties": {
                  "id": "Kavi Script",
                  "label": "Script:__Entity__"
                },
                "color": "#CDDC39",
                "styles": {},
                "label": "Kavi Script",
                "scale_factor": 1,
                "type": "#CDDC39",
                "size": [
                  55,
                  55
                ],
                "position": [
                  0,
                  0
                ]
              },
              {
                "id": 37,
                "properties": {
                  "id": "Luzon",
                  "label": "__Entity__:Island"
                },
                "color": "#9E9E9E",
                "styles": {},
                "label": "Luzon",
                "scale_factor": 1,
                "type": "#9E9E9E",
                "size": [
                  55,
                  55
                ],
                "position": [
                  0,
                  0
                ]
              },
              {
                "id": 38,
                "properties": {
                  "id": "Philippines",
                  "label": "Country:__Entity__"
                },
                "color": "#CDDC39",
                "styles": {},
                "label": "Philippines",
                "scale_factor": 1,
                "type": "#CDDC39",
                "size": [
                  55,
                  55
                ],
                "position": [
                  0,
                  0
                ]
              },
              {
                "id": 39,
                "properties": {
                  "id": "Croatian State",
                  "label": "__Entity__:State"
                },
                "color": "#9C27B0",
                "styles": {},
                "label": "Croatian State",
                "scale_factor": 1,
                "type": "#9C27B0",
                "size": [
                  55,
                  55
                ],
                "position": [
                  0,
                  0
                ]
              },
              {
                "id": 40,
                "properties": {
                  "id": "Tomislav",
                  "label": "__Entity__:Person"
                },
                "color": "#4CAF50",
                "styles": {},
                "label": "Tomislav",
                "scale_factor": 1,
                "type": "#4CAF50",
                "size": [
                  55,
                  55
                ],
                "position": [
                  0,
                  0
                ]
              },
              {
                "id": 41,
                "properties": {
                  "id": "Jean Meeus",
                  "label": "__Entity__:Person"
                },
                "color": "#4CAF50",
                "styles": {},
                "label": "Jean Meeus",
                "scale_factor": 1,
                "type": "#4CAF50",
                "size": [
                  55,
                  55
                ],
                "position": [
                  0,
                  0
                ]
              },
              {
                "id": 42,
                "properties": {
                  "id": "Nine Planets",
                  "label": "__Entity__:Celestial body"
                },
                "color": "#2196F3",
                "styles": {},
                "label": "Nine Planets",
                "scale_factor": 1,
                "type": "#2196F3",
                "size": [
                  55,
                  55
                ],
                "position": [
                  0,
                  0
                ]
              },
              {
                "id": 43,
                "properties": {
                  "id": "Solar System",
                  "label": "__Entity__:Celestial system"
                },
                "color": "#4CAF50",
                "styles": {},
                "label": "Solar System",
                "scale_factor": 1,
                "type": "#4CAF50",
                "size": [
                  55,
                  55
                ],
                "position": [
                  0,
                  0
                ]
              },
              {
                "id": 44,
                "properties": {
                  "id": "Malay Peninsula",
                  "label": "__Entity__:Region"
                },
                "color": "#F44336",
                "styles": {},
                "label": "Malay Peninsula",
                "scale_factor": 1,
                "type": "#F44336",
                "size": [
                  55,
                  55
                ],
                "position": [
                  0,
                  0
                ]
              },
              {
                "id": 45,
                "properties": {
                  "id": "Malay Kingdoms",
                  "label": "__Entity__:Kingdom"
                },
                "color": "#CDDC39",
                "styles": {},
                "label": "Malay Kingdoms",
                "scale_factor": 1,
                "type": "#CDDC39",
                "size": [
                  55,
                  55
                ],
                "position": [
                  0,
                  0
                ]
              },
              {
                "id": 46,
                "properties": {
                  "id": "Fatimid Dynasty",
                  "label": "__Entity__:Dynasty"
                },
                "color": "#607D8B",
                "styles": {},
                "label": "Fatimid Dynasty",
                "scale_factor": 1,
                "type": "#607D8B",
                "size": [
                  55,
                  55
                ],
                "position": [
                  0,
                  0
                ]
              },
              {
                "id": 47,
                "properties": {
                  "id": "Algeria",
                  "label": "Country:__Entity__"
                },
                "color": "#CDDC39",
                "styles": {},
                "label": "Algeria",
                "scale_factor": 1,
                "type": "#CDDC39",
                "size": [
                  55,
                  55
                ],
                "position": [
                  0,
                  0
                ]
              },
              {
                "id": 48,
                "properties": {
                  "id": "Sweden",
                  "label": "Country:__Entity__"
                },
                "color": "#CDDC39",
                "styles": {},
                "label": "Sweden",
                "scale_factor": 1,
                "type": "#CDDC39",
                "size": [
                  55,
                  55
                ],
                "position": [
                  0,
                  0
                ]
              },
              {
                "id": 49,
                "properties": {
                  "id": "Black Sea",
                  "label": "__Entity__:Sea"
                },
                "color": "#673AB7",
                "styles": {},
                "label": "Black Sea",
                "scale_factor": 1,
                "type": "#673AB7",
                "size": [
                  55,
                  55
                ],
                "position": [
                  0,
                  0
                ]
              },
              {
                "id": 50,
                "properties": {
                  "id": "Nubian Kingdom",
                  "label": "__Entity__:Kingdom"
                },
                "color": "#CDDC39",
                "styles": {},
                "label": "Nubian Kingdom",
                "scale_factor": 1,
                "type": "#CDDC39",
                "size": [
                  55,
                  55
                ],
                "position": [
                  0,
                  0
                ]
              },
              {
                "id": 51,
                "properties": {
                  "id": "Sudan",
                  "label": "Country:__Entity__"
                },
                "color": "#CDDC39",
                "styles": {},
                "label": "Sudan",
                "scale_factor": 1,
                "type": "#CDDC39",
                "size": [
                  55,
                  55
                ],
                "position": [
                  0,
                  0
                ]
              },
              {
                "id": 52,
                "properties": {
                  "id": "Mississippian Culture",
                  "label": "__Entity__:Culture"
                },
                "color": "#673AB7",
                "styles": {},
                "label": "Mississippian Culture",
                "scale_factor": 1,
                "type": "#673AB7",
                "size": [
                  55,
                  55
                ],
                "position": [
                  0,
                  0
                ]
              },
              {
                "id": 53,
                "properties": {
                  "id": "Southern Usa",
                  "label": "__Entity__:Region"
                },
                "color": "#F44336",
                "styles": {},
                "label": "Southern Usa",
                "scale_factor": 1,
                "type": "#F44336",
                "size": [
                  55,
                  55
                ],
                "position": [
                  0,
                  0
                ]
              },
              {
                "id": 54,
                "properties": {
                  "id": "Byzantine Empire",
                  "label": "__Entity__:Empire"
                },
                "color": "#CDDC39",
                "styles": {},
                "label": "Byzantine Empire",
                "scale_factor": 1,
                "type": "#CDDC39",
                "size": [
                  55,
                  55
                ],
                "position": [
                  0,
                  0
                ]
              },
              {
                "id": 63,
                "properties": {
                  "id": "Military Strength",
                  "label": "__Entity__"
                },
                "color": "#2196F3",
                "styles": {},
                "label": "Military Strength",
                "scale_factor": 1,
                "type": "#2196F3",
                "size": [
                  55,
                  55
                ],
                "position": [
                  0,
                  0
                ]
              },
              {
                "id": 64,
                "properties": {
                  "id": "Economic Strength",
                  "label": "__Entity__"
                },
                "color": "#2196F3",
                "styles": {},
                "label": "Economic Strength",
                "scale_factor": 1,
                "type": "#2196F3",
                "size": [
                  55,
                  55
                ],
                "position": [
                  0,
                  0
                ]
              },
              {
                "id": 55,
                "properties": {
                  "id": "Baile Átha Cliath",
                  "label": "__Entity__:City"
                },
                "color": "#673AB7",
                "styles": {},
                "label": "Baile Átha Cliath",
                "scale_factor": 1,
                "type": "#673AB7",
                "size": [
                  55,
                  55
                ],
                "position": [
                  0,
                  0
                ]
              },
              {
                "id": 56,
                "properties": {
                  "id": "Dublin",
                  "label": "__Entity__:City"
                },
                "color": "#673AB7",
                "styles": {},
                "label": "Dublin",
                "scale_factor": 1,
                "type": "#673AB7",
                "size": [
                  55,
                  55
                ],
                "position": [
                  0,
                  0
                ]
              },
              {
                "id": 57,
                "properties": {
                  "id": "Reindeer",
                  "label": "__Entity__:Animal"
                },
                "color": "#9E9E9E",
                "styles": {},
                "label": "Reindeer",
                "scale_factor": 1,
                "type": "#9E9E9E",
                "size": [
                  55,
                  55
                ],
                "position": [
                  0,
                  0
                ]
              },
              {
                "id": 58,
                "properties": {
                  "id": "Scotland",
                  "label": "Country:__Entity__"
                },
                "color": "#CDDC39",
                "styles": {},
                "label": "Scotland",
                "scale_factor": 1,
                "type": "#CDDC39",
                "size": [
                  55,
                  55
                ],
                "position": [
                  0,
                  0
                ]
              },
              {
                "id": 59,
                "properties": {
                  "id": "Lions",
                  "label": "__Entity__:Animal"
                },
                "color": "#9E9E9E",
                "styles": {},
                "label": "Lions",
                "scale_factor": 1,
                "type": "#9E9E9E",
                "size": [
                  55,
                  55
                ],
                "position": [
                  0,
                  0
                ]
              },
              {
                "id": 60,
                "properties": {
                  "id": "Caucasus",
                  "label": "__Entity__:Region"
                },
                "color": "#F44336",
                "styles": {},
                "label": "Caucasus",
                "scale_factor": 1,
                "type": "#F44336",
                "size": [
                  55,
                  55
                ],
                "position": [
                  0,
                  0
                ]
              },
              {
                "id": 61,
                "properties": {
                  "id": "Topiltzin Ce Acatl Quetzalcoatl",
                  "label": "__Entity__:Person"
                },
                "color": "#4CAF50",
                "styles": {},
                "label": "Topiltzin Ce Acatl Quetzalcoatl",
                "scale_factor": 1,
                "type": "#4CAF50",
                "size": [
                  55,
                  55
                ],
                "position": [
                  0,
                  0
                ]
              },
              {
                "id": 84,
                "properties": {
                  "id": "Fatamid Dynasty",
                  "label": "__Entity__:Person"
                },
                "color": "#4CAF50",
                "styles": {},
                "label": "Fatamid Dynasty",
                "scale_factor": 1,
                "type": "#4CAF50",
                "size": [
                  55,
                  55
                ],
                "position": [
                  0,
                  0
                ]
              },
              {
                "id": 85,
                "properties": {
                  "id": "Hop",
                  "label": "__Entity__:Plant"
                },
                "color": "#9C27B0",
                "styles": {},
                "label": "Hop",
                "scale_factor": 1,
                "type": "#9C27B0",
                "size": [
                  55,
                  55
                ],
                "position": [
                  0,
                  0
                ]
              },
              {
                "id": 87,
                "properties": {
                  "id": "Wikipedia",
                  "label": "__Entity__:Website"
                },
                "color": "#2196F3",
                "styles": {},
                "label": "Wikipedia",
                "scale_factor": 1,
                "type": "#2196F3",
                "size": [
                  55,
                  55
                ],
                "position": [
                  0,
                  0
                ]
              },
              {
                "id": 88,
                "properties": {
                  "id": "Gnu Free Documentation License",
                  "label": "__Entity__:License"
                },
                "color": "#4CAF50",
                "styles": {},
                "label": "Gnu Free Documentation License",
                "scale_factor": 1,
                "type": "#4CAF50",
                "size": [
                  55,
                  55
                ],
                "position": [
                  0,
                  0
                ]
              },
              {
                "id": 90,
                "properties": {
                  "id": "Beer",
                  "label": "__Entity__:Ingredient:Beverage"
                },
                "color": "#F44336",
                "styles": {},
                "label": "Beer",
                "scale_factor": 1,
                "type": "#F44336",
                "size": [
                  55,
                  55
                ],
                "position": [
                  0,
                  0
                ]
              },
              {
                "id": 91,
                "properties": {
                  "id": "Michael Jackson",
                  "label": "__Entity__:Person"
                },
                "color": "#4CAF50",
                "styles": {},
                "label": "Michael Jackson",
                "scale_factor": 1,
                "type": "#4CAF50",
                "size": [
                  55,
                  55
                ],
                "position": [
                  0,
                  0
                ]
              },
              {
                "id": 92,
                "properties": {
                  "id": "Ancient Egypt",
                  "label": "__Entity__:Historical civilization"
                },
                "color": "#607D8B",
                "styles": {},
                "label": "Ancient Egypt",
                "scale_factor": 1,
                "type": "#607D8B",
                "size": [
                  55,
                  55
                ],
                "position": [
                  0,
                  0
                ]
              }
            ],
            "_overview": {
              "enabled": null,
              "overview_set": false
            },
            "_selected_graph": [
              [],
              []
            ],
            "_sidebar": {
              "enabled": true,
              "start_with": ""
            },
            "_view_count": null,
            "_view_module": "yfiles-jupyter-graphs",
            "_view_module_version": "^1.7.2",
            "_view_name": "GraphView",
            "layout": "IPY_MODEL_2760ddf9351d4825ac35d73b45b1a4f9",
            "tabbable": null,
            "tooltip": null
          }
        },
        "2760ddf9351d4825ac35d73b45b1a4f9": {
          "model_module": "@jupyter-widgets/base",
          "model_name": "LayoutModel",
          "model_module_version": "2.0.0",
          "state": {
            "_model_module": "@jupyter-widgets/base",
            "_model_module_version": "2.0.0",
            "_model_name": "LayoutModel",
            "_view_count": null,
            "_view_module": "@jupyter-widgets/base",
            "_view_module_version": "2.0.0",
            "_view_name": "LayoutView",
            "align_content": null,
            "align_items": null,
            "align_self": null,
            "border_bottom": null,
            "border_left": null,
            "border_right": null,
            "border_top": null,
            "bottom": null,
            "display": null,
            "flex": null,
            "flex_flow": null,
            "grid_area": null,
            "grid_auto_columns": null,
            "grid_auto_flow": null,
            "grid_auto_rows": null,
            "grid_column": null,
            "grid_gap": null,
            "grid_row": null,
            "grid_template_areas": null,
            "grid_template_columns": null,
            "grid_template_rows": null,
            "height": "800px",
            "justify_content": null,
            "justify_items": null,
            "left": null,
            "margin": null,
            "max_height": null,
            "max_width": null,
            "min_height": null,
            "min_width": null,
            "object_fit": null,
            "object_position": null,
            "order": null,
            "overflow": null,
            "padding": null,
            "right": null,
            "top": null,
            "visibility": null,
            "width": "100%"
          }
        }
      }
    }
  },
  "cells": [
    {
      "cell_type": "markdown",
      "metadata": {
        "id": "view-in-github",
        "colab_type": "text"
      },
      "source": [
        "<a href=\"https://colab.research.google.com/github/vedanth-aggarwal/neo4j_knowledgegraph_cypherag/blob/main/RAG_With_Knowledge_graph(Neo4j).ipynb\" target=\"_parent\"><img src=\"https://colab.research.google.com/assets/colab-badge.svg\" alt=\"Open In Colab\"/></a>"
      ]
    },
    {
      "cell_type": "code",
      "source": [
        "%pip install --upgrade --quiet  langchain langchain-community langchain-openai langchain-experimental neo4j wikipedia tiktoken yfiles_jupyter_graphs"
      ],
      "metadata": {
        "colab": {
          "base_uri": "https://localhost:8080/"
        },
        "id": "usWcdmOr7GAH",
        "outputId": "7e916a34-689f-48ff-dc86-c9e86a8cd8ab"
      },
      "execution_count": null,
      "outputs": [
        {
          "output_type": "stream",
          "name": "stdout",
          "text": [
            "\u001b[2K     \u001b[90m━━━━━━━━━━━━━━━━━━━━━━━━━━━━━━━━━━━━━━━━\u001b[0m \u001b[32m983.6/983.6 kB\u001b[0m \u001b[31m15.7 MB/s\u001b[0m eta \u001b[36m0:00:00\u001b[0m\n",
            "\u001b[2K     \u001b[90m━━━━━━━━━━━━━━━━━━━━━━━━━━━━━━━━━━━━━━━━\u001b[0m \u001b[32m2.2/2.2 MB\u001b[0m \u001b[31m71.9 MB/s\u001b[0m eta \u001b[36m0:00:00\u001b[0m\n",
            "\u001b[2K     \u001b[90m━━━━━━━━━━━━━━━━━━━━━━━━━━━━━━━━━━━━━━━━\u001b[0m \u001b[32m46.1/46.1 kB\u001b[0m \u001b[31m6.0 MB/s\u001b[0m eta \u001b[36m0:00:00\u001b[0m\n",
            "\u001b[2K     \u001b[90m━━━━━━━━━━━━━━━━━━━━━━━━━━━━━━━━━━━━━━━━\u001b[0m \u001b[32m202.7/202.7 kB\u001b[0m \u001b[31m22.4 MB/s\u001b[0m eta \u001b[36m0:00:00\u001b[0m\n",
            "\u001b[2K     \u001b[90m━━━━━━━━━━━━━━━━━━━━━━━━━━━━━━━━━━━━━━━━\u001b[0m \u001b[32m293.5/293.5 kB\u001b[0m \u001b[31m27.2 MB/s\u001b[0m eta \u001b[36m0:00:00\u001b[0m\n",
            "\u001b[?25h  Preparing metadata (setup.py) ... \u001b[?25l\u001b[?25hdone\n",
            "\u001b[2K     \u001b[90m━━━━━━━━━━━━━━━━━━━━━━━━━━━━━━━━━━━━━━━━\u001b[0m \u001b[32m1.1/1.1 MB\u001b[0m \u001b[31m46.8 MB/s\u001b[0m eta \u001b[36m0:00:00\u001b[0m\n",
            "\u001b[2K     \u001b[90m━━━━━━━━━━━━━━━━━━━━━━━━━━━━━━━━━━━━━━━━\u001b[0m \u001b[32m15.5/15.5 MB\u001b[0m \u001b[31m63.9 MB/s\u001b[0m eta \u001b[36m0:00:00\u001b[0m\n",
            "\u001b[2K     \u001b[90m━━━━━━━━━━━━━━━━━━━━━━━━━━━━━━━━━━━━━━━━\u001b[0m \u001b[32m366.3/366.3 kB\u001b[0m \u001b[31m27.6 MB/s\u001b[0m eta \u001b[36m0:00:00\u001b[0m\n",
            "\u001b[2K     \u001b[90m━━━━━━━━━━━━━━━━━━━━━━━━━━━━━━━━━━━━━━━━\u001b[0m \u001b[32m127.9/127.9 kB\u001b[0m \u001b[31m10.7 MB/s\u001b[0m eta \u001b[36m0:00:00\u001b[0m\n",
            "\u001b[2K     \u001b[90m━━━━━━━━━━━━━━━━━━━━━━━━━━━━━━━━━━━━━━━━\u001b[0m \u001b[32m328.5/328.5 kB\u001b[0m \u001b[31m4.7 MB/s\u001b[0m eta \u001b[36m0:00:00\u001b[0m\n",
            "\u001b[2K     \u001b[90m━━━━━━━━━━━━━━━━━━━━━━━━━━━━━━━━━━━━━━━━\u001b[0m \u001b[32m139.4/139.4 kB\u001b[0m \u001b[31m16.0 MB/s\u001b[0m eta \u001b[36m0:00:00\u001b[0m\n",
            "\u001b[2K     \u001b[90m━━━━━━━━━━━━━━━━━━━━━━━━━━━━━━━━━━━━━━━━\u001b[0m \u001b[32m49.2/49.2 kB\u001b[0m \u001b[31m4.2 MB/s\u001b[0m eta \u001b[36m0:00:00\u001b[0m\n",
            "\u001b[2K     \u001b[90m━━━━━━━━━━━━━━━━━━━━━━━━━━━━━━━━━━━━━━━━\u001b[0m \u001b[32m2.3/2.3 MB\u001b[0m \u001b[31m53.7 MB/s\u001b[0m eta \u001b[36m0:00:00\u001b[0m\n",
            "\u001b[2K     \u001b[90m━━━━━━━━━━━━━━━━━━━━━━━━━━━━━━━━━━━━━━━━\u001b[0m \u001b[32m141.1/141.1 kB\u001b[0m \u001b[31m2.7 MB/s\u001b[0m eta \u001b[36m0:00:00\u001b[0m\n",
            "\u001b[2K     \u001b[90m━━━━━━━━━━━━━━━━━━━━━━━━━━━━━━━━━━━━━━━━\u001b[0m \u001b[32m75.6/75.6 kB\u001b[0m \u001b[31m8.1 MB/s\u001b[0m eta \u001b[36m0:00:00\u001b[0m\n",
            "\u001b[2K     \u001b[90m━━━━━━━━━━━━━━━━━━━━━━━━━━━━━━━━━━━━━━━━\u001b[0m \u001b[32m77.9/77.9 kB\u001b[0m \u001b[31m6.4 MB/s\u001b[0m eta \u001b[36m0:00:00\u001b[0m\n",
            "\u001b[2K     \u001b[90m━━━━━━━━━━━━━━━━━━━━━━━━━━━━━━━━━━━━━━━━\u001b[0m \u001b[32m58.3/58.3 kB\u001b[0m \u001b[31m7.1 MB/s\u001b[0m eta \u001b[36m0:00:00\u001b[0m\n",
            "\u001b[2K     \u001b[90m━━━━━━━━━━━━━━━━━━━━━━━━━━━━━━━━━━━━━━━━\u001b[0m \u001b[32m1.6/1.6 MB\u001b[0m \u001b[31m58.9 MB/s\u001b[0m eta \u001b[36m0:00:00\u001b[0m\n",
            "\u001b[?25h  Building wheel for wikipedia (setup.py) ... \u001b[?25l\u001b[?25hdone\n"
          ]
        }
      ]
    },
    {
      "cell_type": "code",
      "source": [
        "from langchain_core.runnables import (\n",
        "    RunnableBranch,\n",
        "    RunnableLambda,\n",
        "    RunnableParallel,\n",
        "    RunnablePassthrough,\n",
        ")"
      ],
      "metadata": {
        "id": "q8EzdaTJFTbx"
      },
      "execution_count": null,
      "outputs": []
    },
    {
      "cell_type": "code",
      "source": [
        "from langchain_core.prompts import ChatPromptTemplate\n",
        "from langchain_core.prompts.prompt import PromptTemplate"
      ],
      "metadata": {
        "id": "vKkxxyasFWPh"
      },
      "execution_count": null,
      "outputs": []
    },
    {
      "cell_type": "code",
      "source": [
        "from google.colab import userdata\n",
        "OPENAI_API_KEY= \"\" #userdata.get('OPENAI_API_KEY')"
      ],
      "metadata": {
        "id": "SksHz3Q356JQ"
      },
      "execution_count": null,
      "outputs": []
    },
    {
      "cell_type": "code",
      "source": [
        "from typing import Tuple, List, Optional"
      ],
      "metadata": {
        "id": "GCEgNy7LFXS4"
      },
      "execution_count": null,
      "outputs": []
    },
    {
      "cell_type": "code",
      "source": [
        "from langchain_core.messages import AIMessage, HumanMessage\n",
        "from langchain_core.output_parsers import StrOutputParser"
      ],
      "metadata": {
        "id": "ymZquwggFaNr"
      },
      "execution_count": null,
      "outputs": []
    },
    {
      "cell_type": "code",
      "source": [
        "from langchain_core.runnables import ConfigurableField"
      ],
      "metadata": {
        "id": "nitfT-ktFaQQ"
      },
      "execution_count": null,
      "outputs": []
    },
    {
      "cell_type": "code",
      "source": [
        "from yfiles_jupyter_graphs import GraphWidget\n",
        "from neo4j import GraphDatabase\n"
      ],
      "metadata": {
        "id": "fzOPupw0FaSy"
      },
      "execution_count": null,
      "outputs": []
    },
    {
      "cell_type": "code",
      "source": [
        "import os"
      ],
      "metadata": {
        "id": "g6kjt1HkFaVZ"
      },
      "execution_count": null,
      "outputs": []
    },
    {
      "cell_type": "code",
      "source": [
        "try:\n",
        "  import google.colab\n",
        "  from google.colab import output\n",
        "  output.enable_custom_widget_manager()\n",
        "except:\n",
        "  pass"
      ],
      "metadata": {
        "id": "IR5TLMjpFhE-"
      },
      "execution_count": null,
      "outputs": []
    },
    {
      "cell_type": "code",
      "source": [
        "from langchain_community.vectorstores import Neo4jVector"
      ],
      "metadata": {
        "id": "pSgOwI9SFhHr"
      },
      "execution_count": null,
      "outputs": []
    },
    {
      "cell_type": "code",
      "source": [
        "from google.colab import userdata\n",
        "OPENAI_API_KEY=\"\" #userdata.get('OPENAI_API_KEY')"
      ],
      "metadata": {
        "id": "lyOvwiijFlQF"
      },
      "execution_count": null,
      "outputs": []
    },
    {
      "cell_type": "code",
      "source": [
        "'''\n",
        "# Wait 60 seconds before connecting using these details, or login to https://console.neo4j.io to validate the Aura Instance is available\n",
        "NEO4J_URI=neo4j+s://2a2c4c30.databases.neo4j.io\n",
        "NEO4J_USERNAME=neo4j\n",
        "NEO4J_PASSWORD=mVm-uSfheC4AsM_RRjgC9DK8W2fJOCflM3sA9VrbpaE\n",
        "AURA_INSTANCEID=2a2c4c30\n",
        "AURA_INSTANCENAME=Instance01\n",
        "'''\n",
        "NEO4J_URI=\"neo4j+s://2a2c4c30.databases.neo4j.io\"\n",
        "NEO4J_USERNAME=\"neo4j\"\n",
        "NEO4J_PASSWORD=\"mVm-uSfheC4AsM_RRjgC9DK8W2fJOCflM3sA9VrbpaE\""
      ],
      "metadata": {
        "id": "YiKFX23n4tl3"
      },
      "execution_count": null,
      "outputs": []
    },
    {
      "cell_type": "code",
      "source": [
        "os.environ[\"OPENAI_API_KEY\"] = OPENAI_API_KEY\n",
        "os.environ[\"NEO4J_URI\"] = NEO4J_URI\n",
        "os.environ[\"NEO4J_USERNAME\"] = NEO4J_USERNAME\n",
        "os.environ[\"NEO4J_PASSWORD\"] = NEO4J_PASSWORD"
      ],
      "metadata": {
        "id": "gHiqiwau7Tat"
      },
      "execution_count": null,
      "outputs": []
    },
    {
      "cell_type": "code",
      "source": [
        "from langchain_community.graphs import Neo4jGraph"
      ],
      "metadata": {
        "id": "zpIPagYu6BAp"
      },
      "execution_count": null,
      "outputs": []
    },
    {
      "cell_type": "code",
      "source": [
        "graph = Neo4jGraph()"
      ],
      "metadata": {
        "id": "0xzi4bRD6Bx9"
      },
      "execution_count": null,
      "outputs": []
    },
    {
      "cell_type": "code",
      "source": [
        "from langchain.document_loaders import TextLoader\n",
        "\n",
        "# Load documents from text files\n",
        "raw_documents = []\n",
        "for filename in ['10th century.txt', 'beer.txt']:\n",
        "    loader = TextLoader(file_path=filename)\n",
        "    raw_documents.extend(loader.load())"
      ],
      "metadata": {
        "id": "1Okjv0F03CI8"
      },
      "execution_count": null,
      "outputs": []
    },
    {
      "cell_type": "code",
      "source": [
        "from langchain.document_loaders import WikipediaLoader\n",
        "raw_documents = WikipediaLoader(query=\"Elizabeth I\").load()"
      ],
      "metadata": {
        "colab": {
          "base_uri": "https://localhost:8080/"
        },
        "id": "XKqtMDVY6WwW",
        "outputId": "69a4f268-b9cc-4d0e-f989-69287a6b3d56"
      },
      "execution_count": null,
      "outputs": [
        {
          "output_type": "stream",
          "name": "stderr",
          "text": [
            "/usr/local/lib/python3.10/dist-packages/wikipedia/wikipedia.py:389: GuessedAtParserWarning: No parser was explicitly specified, so I'm using the best available HTML parser for this system (\"lxml\"). This usually isn't a problem, but if you run this code on another system, or in a different virtual environment, it may use a different parser and behave differently.\n",
            "\n",
            "The code that caused this warning is on line 389 of the file /usr/local/lib/python3.10/dist-packages/wikipedia/wikipedia.py. To get rid of this warning, pass the additional argument 'features=\"lxml\"' to the BeautifulSoup constructor.\n",
            "\n",
            "  lis = BeautifulSoup(html).find_all('li')\n"
          ]
        }
      ]
    },
    {
      "cell_type": "code",
      "source": [
        "len(raw_documents)"
      ],
      "metadata": {
        "colab": {
          "base_uri": "https://localhost:8080/"
        },
        "id": "ACWeDt0O7yc2",
        "outputId": "a397917a-6add-47e5-8e21-8a003da8d7fe"
      },
      "execution_count": null,
      "outputs": [
        {
          "output_type": "execute_result",
          "data": {
            "text/plain": [
              "2"
            ]
          },
          "metadata": {},
          "execution_count": 18
        }
      ]
    },
    {
      "cell_type": "code",
      "source": [
        "raw_documents[:3]"
      ],
      "metadata": {
        "colab": {
          "base_uri": "https://localhost:8080/"
        },
        "id": "skFy3n30732l",
        "outputId": "e1dd8874-5e8b-47dd-a10e-b4dd752898f1"
      },
      "execution_count": null,
      "outputs": [
        {
          "output_type": "execute_result",
          "data": {
            "text/plain": [
              "[Document(metadata={'title': 'Elizabeth I', 'summary': 'Elizabeth I (7 September 1533 – 24 March 1603) was Queen of England and Ireland from 17 November 1558 until her death in 1603. She was the last monarch of the House of Tudor.\\nElizabeth was the only surviving child of Henry VIII and his second wife, Anne Boleyn. When Elizabeth was two years old, her parents\\' marriage was annulled, her mother was executed, and Elizabeth was declared illegitimate. Henry restored her to the line of succession when she was 10, via the Third Succession Act 1543. After Henry\\'s death in 1547, Elizabeth\\'s younger half-brother Edward VI ruled until his own death in 1553, bequeathing the crown to a Protestant cousin, Lady Jane Grey, and ignoring the claims of his two half-sisters, the Catholic Mary and the younger Elizabeth, in spite of statutes to the contrary. Edward\\'s will was set aside within weeks of his death and Mary became queen, deposing and executing Jane. During Mary\\'s reign, Elizabeth was imprisoned for nearly a year on suspicion of supporting Protestant rebels.\\nUpon her half-sister\\'s death in 1558, Elizabeth succeeded to the throne and set out to rule by good counsel. She depended heavily on a group of trusted advisers led by William Cecil, whom she created Baron Burghley. One of her first actions as queen was the establishment of an English Protestant church, of which she became the supreme governor. This era, later named the Elizabethan Religious Settlement, would evolve into the Church of England. It was expected that Elizabeth would marry and produce an heir; however, despite numerous courtships, she never did, and because of this she is sometimes referred to as the \"Virgin Queen\". She was eventually succeeded by her first cousin twice removed, James VI of Scotland, the son of Mary, Queen of Scots.\\nIn government, Elizabeth was more moderate than her father and siblings had been. One of her mottoes was video et taceo (\"I see and keep silent\"). In religion, she was relatively tolerant and avoided systematic persecution. After the pope declared her illegitimate in 1570, which in theory released English Catholics from allegiance to her, several conspiracies threatened her life, all of which were defeated with the help of her ministers\\' secret service, run by Sir Francis Walsingham. Elizabeth was cautious in foreign affairs, manoeuvring between the major powers of France and Spain. She half-heartedly supported a number of ineffective, poorly resourced military campaigns in the Netherlands, France, and Ireland. By the mid-1580s, England could no longer avoid war with Spain.\\nAs she grew older, Elizabeth became celebrated for her virginity. A cult of personality grew around her which was celebrated in the portraits, pageants, and literature of the day. Elizabeth\\'s reign became known as the Elizabethan era. The period is famous for the flourishing of English drama, led by playwrights such as William Shakespeare and Christopher Marlowe, the prowess of English maritime adventurers, such as Francis Drake and Walter Raleigh, and for the defeat of the Spanish Armada. Some historians depict Elizabeth as a short-tempered, sometimes indecisive ruler, who enjoyed more than her fair share of luck. Towards the end of her reign, a series of economic and military problems weakened her popularity. Elizabeth is acknowledged as a charismatic performer (\"Gloriana\") and a dogged survivor (\"Good Queen Bess\") in an era when government was ramshackle and limited, and when monarchs in neighbouring countries faced internal problems that jeopardised their thrones. After the short, disastrous reigns of her half-siblings, her 44 years on the throne provided welcome stability for the kingdom and helped to forge a sense of national identity.', 'source': 'https://en.wikipedia.org/wiki/Elizabeth_I'}, page_content='Elizabeth I (7 September 1533 – 24 March 1603) was Queen of England and Ireland from 17 November 1558 until her death in 1603. She was the last monarch of the House of Tudor.\\nElizabeth was the only surviving child of Henry VIII and his second wife, Anne Boleyn. When Elizabeth was two years old, her parents\\' marriage was annulled, her mother was executed, and Elizabeth was declared illegitimate. Henry restored her to the line of succession when she was 10, via the Third Succession Act 1543. After Henry\\'s death in 1547, Elizabeth\\'s younger half-brother Edward VI ruled until his own death in 1553, bequeathing the crown to a Protestant cousin, Lady Jane Grey, and ignoring the claims of his two half-sisters, the Catholic Mary and the younger Elizabeth, in spite of statutes to the contrary. Edward\\'s will was set aside within weeks of his death and Mary became queen, deposing and executing Jane. During Mary\\'s reign, Elizabeth was imprisoned for nearly a year on suspicion of supporting Protestant rebels.\\nUpon her half-sister\\'s death in 1558, Elizabeth succeeded to the throne and set out to rule by good counsel. She depended heavily on a group of trusted advisers led by William Cecil, whom she created Baron Burghley. One of her first actions as queen was the establishment of an English Protestant church, of which she became the supreme governor. This era, later named the Elizabethan Religious Settlement, would evolve into the Church of England. It was expected that Elizabeth would marry and produce an heir; however, despite numerous courtships, she never did, and because of this she is sometimes referred to as the \"Virgin Queen\". She was eventually succeeded by her first cousin twice removed, James VI of Scotland, the son of Mary, Queen of Scots.\\nIn government, Elizabeth was more moderate than her father and siblings had been. One of her mottoes was video et taceo (\"I see and keep silent\"). In religion, she was relatively tolerant and avoided systematic persecution. After the pope declared her illegitimate in 1570, which in theory released English Catholics from allegiance to her, several conspiracies threatened her life, all of which were defeated with the help of her ministers\\' secret service, run by Sir Francis Walsingham. Elizabeth was cautious in foreign affairs, manoeuvring between the major powers of France and Spain. She half-heartedly supported a number of ineffective, poorly resourced military campaigns in the Netherlands, France, and Ireland. By the mid-1580s, England could no longer avoid war with Spain.\\nAs she grew older, Elizabeth became celebrated for her virginity. A cult of personality grew around her which was celebrated in the portraits, pageants, and literature of the day. Elizabeth\\'s reign became known as the Elizabethan era. The period is famous for the flourishing of English drama, led by playwrights such as William Shakespeare and Christopher Marlowe, the prowess of English maritime adventurers, such as Francis Drake and Walter Raleigh, and for the defeat of the Spanish Armada. Some historians depict Elizabeth as a short-tempered, sometimes indecisive ruler, who enjoyed more than her fair share of luck. Towards the end of her reign, a series of economic and military problems weakened her popularity. Elizabeth is acknowledged as a charismatic performer (\"Gloriana\") and a dogged survivor (\"Good Queen Bess\") in an era when government was ramshackle and limited, and when monarchs in neighbouring countries faced internal problems that jeopardised their thrones. After the short, disastrous reigns of her half-siblings, her 44 years on the throne provided welcome stability for the kingdom and helped to forge a sense of national identity.\\n\\n\\n== Early life ==\\n\\nElizabeth was born at Greenwich Palace on 7 September 1533 and was named after her grandmothers, Elizabeth of York and Lady Elizabeth Howard. She was the second child of Henry VIII of England born in wedlock to survive infancy. Her mother was Henry\\'s second wife, Ann'),\n",
              " Document(metadata={'title': 'Elizabeth of Russia', 'summary': \"Elizabeth or Elizaveta Petrovna (Russian: Елизаве́та Петро́вна; 29 December [O.S. 18 December] 1709 – 5 January [O.S. 25 December] 1762) was Empress of Russia from 1741 until her death in 1762. She remains one of the most popular Russian monarchs because of her decision not to execute a single person during her reign, her numerous construction projects, and her strong opposition to Prussian policies.\\nThe second-eldest daughter of Tsar Peter the Great (r.\\u20091682–1725), Elizabeth lived through the confused successions of her father's descendants following her half-brother Alexei's death in 1718. The throne first passed to her mother Catherine I of Russia (r.\\u20091725–1727), then to her nephew Peter II, who died in 1730 and was succeeded by Elizabeth's first cousin Anna (r.\\u20091730–1740). After the brief rule of Anna's infant great-nephew, Ivan VI, Elizabeth seized the throne with the military's support and declared her own nephew, the future Peter III, her heir.\\nDuring her reign Elizabeth continued the policies of her father and brought about a remarkable Age of Enlightenment in Russia. Her domestic policies allowed the nobles to gain dominance in local government while shortening their terms of service to the state. She encouraged Mikhail Lomonosov's foundation of the University of Moscow, the highest-ranking Russian educational institution. Her court became one of the most splendid in all Europe, especially regarding architecture: she modernised Russia's roads, encouraged Ivan Shuvalov's foundation of the Imperial Academy of Arts, and financed grandiose Baroque projects of her favourite architect, Bartolomeo Rastrelli, particularly in Peterhof Palace. The Winter Palace and the Smolny Cathedral in Saint Petersburg are among the chief monuments of her reign.\\nElizabeth led the Russian Empire during the two major European conflicts of her time: the War of Austrian Succession (1740–1748) and the Seven Years' War (1756–1763). She and diplomat Aleksey Bestuzhev-Ryumin solved the first event by forming an alliance with Austria and France, but indirectly caused the second. Russian troops enjoyed several victories against Prussia and briefly occupied Berlin, but when Frederick the Great was finally considering surrender in January 1762, the Russian Empress died. She was the last agnatic member of the House of Romanov to reign over the Russian Empire.\", 'source': 'https://en.wikipedia.org/wiki/Elizabeth_of_Russia'}, page_content='Elizabeth or Elizaveta Petrovna (Russian: Елизаве́та Петро́вна; 29 December [O.S. 18 December] 1709 – 5 January [O.S. 25 December] 1762) was Empress of Russia from 1741 until her death in 1762. She remains one of the most popular Russian monarchs because of her decision not to execute a single person during her reign, her numerous construction projects, and her strong opposition to Prussian policies.\\nThe second-eldest daughter of Tsar Peter the Great (r.\\u20091682–1725), Elizabeth lived through the confused successions of her father\\'s descendants following her half-brother Alexei\\'s death in 1718. The throne first passed to her mother Catherine I of Russia (r.\\u20091725–1727), then to her nephew Peter II, who died in 1730 and was succeeded by Elizabeth\\'s first cousin Anna (r.\\u20091730–1740). After the brief rule of Anna\\'s infant great-nephew, Ivan VI, Elizabeth seized the throne with the military\\'s support and declared her own nephew, the future Peter III, her heir.\\nDuring her reign Elizabeth continued the policies of her father and brought about a remarkable Age of Enlightenment in Russia. Her domestic policies allowed the nobles to gain dominance in local government while shortening their terms of service to the state. She encouraged Mikhail Lomonosov\\'s foundation of the University of Moscow, the highest-ranking Russian educational institution. Her court became one of the most splendid in all Europe, especially regarding architecture: she modernised Russia\\'s roads, encouraged Ivan Shuvalov\\'s foundation of the Imperial Academy of Arts, and financed grandiose Baroque projects of her favourite architect, Bartolomeo Rastrelli, particularly in Peterhof Palace. The Winter Palace and the Smolny Cathedral in Saint Petersburg are among the chief monuments of her reign.\\nElizabeth led the Russian Empire during the two major European conflicts of her time: the War of Austrian Succession (1740–1748) and the Seven Years\\' War (1756–1763). She and diplomat Aleksey Bestuzhev-Ryumin solved the first event by forming an alliance with Austria and France, but indirectly caused the second. Russian troops enjoyed several victories against Prussia and briefly occupied Berlin, but when Frederick the Great was finally considering surrender in January 1762, the Russian Empress died. She was the last agnatic member of the House of Romanov to reign over the Russian Empire.\\n\\n\\n== Early life ==\\n\\n\\n=== Childhood and teenage years ===\\n\\nElizabeth was born at Kolomenskoye, near Moscow, Russia, on 18 December 1709 (O.S.). Her parents were Peter the Great, Tsar of Russia and Catherine. Catherine was the daughter of Samuel Skowroński, a subject of Grand Duchy of Lithuania. Although no documentary record exists, her parents were said to have married secretly at the Cathedral of the Holy Trinity in Saint Petersburg at some point between 23 October and 1 December 1707. Their official marriage was at Saint Isaac\\'s Cathedral in Saint Petersburg on 9 February 1712. On this day, the two children previously born to the couple (Anna and Elizabeth) were legitimised by their father and given the title of Tsarevna (\"princess\") on 6 March 1711. Of the twelve children born to Peter and Catherine (five sons and seven daughters), only the sisters survived to adulthood. They had one older surviving sibling, crown prince Alexei Petrovich, who was Peter\\'s son by his first wife, noblewoman Eudoxia Lopukhina.\\nAs a child, Elizabeth was the favourite of her father, whom she resembled both physically and temperamentally. Even though he adored his daughter, Peter did not devote time or attention to her education; having both a son and grandson from his first marriage to a noblewoman, he did not anticipate that a daughter born to his former maid might one day inherit the Russian throne, which had until that point never been occupied by a woman; as such, it was left to Catherine to raise the girls, a task met with considerable difficulty due to her own lack of education. Despite this, Elizabeth was still '),\n",
              " Document(metadata={'title': 'Portraiture of Elizabeth I', 'summary': 'The portraiture of Queen Elizabeth I (1533–1603) spans the evolution of English royal portraits in the early modern period (1400/1500-1800), from the earliest representations of simple likenesses to the later complex imagery used to convey the power and aspirations of the state, as well as of the monarch at its head.\\nEven the earliest portraits of Elizabeth I contain symbolic objects such as roses and prayer books that would have carried meaning to viewers of her day. Later portraits of Elizabeth layer the iconography of empire—globes, crowns, swords and columns—and representations of virginity and purity, such as moons and pearls, with classical allusions, to present a complex \"story\" that conveyed to Elizabethan era viewers the majesty and significance of the \\'Virgin Queen\\'.', 'source': 'https://en.wikipedia.org/wiki/Portraiture_of_Elizabeth_I'}, page_content='The portraiture of Queen Elizabeth I (1533–1603) spans the evolution of English royal portraits in the early modern period (1400/1500-1800), from the earliest representations of simple likenesses to the later complex imagery used to convey the power and aspirations of the state, as well as of the monarch at its head.\\nEven the earliest portraits of Elizabeth I contain symbolic objects such as roses and prayer books that would have carried meaning to viewers of her day. Later portraits of Elizabeth layer the iconography of empire—globes, crowns, swords and columns—and representations of virginity and purity, such as moons and pearls, with classical allusions, to present a complex \"story\" that conveyed to Elizabethan era viewers the majesty and significance of the \\'Virgin Queen\\'.\\n\\n\\n== Overview ==\\n\\n\\n=== Portraiture in Tudor England ===\\n\\nTwo portraiture traditions had arisen in the Tudor court since the days of Elizabeth\\'s father, Henry VIII. The portrait miniature developed from the illuminated manuscript tradition. These small personal images were almost invariably painted from life over the space of a few days in watercolours on vellum, stiffened by being glued to a playing card. Panel paintings in oils on prepared wood surfaces were based on preparatory drawings and were usually executed at life size, as were oil paintings on canvas.\\nUnlike her contemporaries in France, Elizabeth never granted rights to produce her portrait to a single artist, although Nicholas Hilliard was appointed her official limner, or miniaturist and goldsmith. George Gower, a fashionable court portraitist created Serjeant Painter in 1581, was responsible for approving all portraits of the queen created by other artists from 1581 until his death in 1596.\\nElizabeth sat for a number of artists over the years, including Hilliard, Cornelis Ketel, Federico Zuccaro or Zuccari, Isaac Oliver, and most likely to Gower and Marcus Gheeraerts the Younger. Portraits were commissioned by the government as gifts to foreign monarchs and to show to prospective suitors. Courtiers commissioned heavily symbolic paintings to demonstrate their devotion to the queen, and the fashionable long galleries of later Elizabethan country houses were filled with sets of portraits. The studios of Tudor artists produced images of Elizabeth working from approved \"face patterns\", or approved drawings of the queen, to meet this growing demand for her image, an important symbol of loyalty and reverence for the crown in times of turbulence.\\n\\n\\n=== European context ===\\n\\nBy far the most impressive models of portraiture available to English portraitists were the many portraits by Hans Holbein the Younger, the outstanding Northern portraitist of the first half of the 16th century, who had made two lengthy visits to England, and had been Henry VIII\\'s court artist. Holbein had accustomed the English court to the full-length life-size portrait, although none of his originals now survive. His great dynastic mural at Whitehall Palace, destroyed in 1698, and perhaps other original large portraits, would have been familiar to Elizabethan artists.\\nBoth Holbein and his great Italian contemporary Titian had combined great psychological penetration with a sufficiently majestic impression to satisfy their royal patrons. By his second visit, Holbein had already begun to move away from a strictly realist depiction; in his Jane Seymour, \"the figure is no longer seen as displacing with its bulk a recognizable section of space: it approaches rather to a flat pattern, made alive by a bounding and vital outline\". This tendency was to be taken much further by the later portraits of Elizabeth, where \"Likeness of feature and an interest in form and volume have gradually been abandoned in favour of an effect of splendid majesty obtained by decorative pattern, and the forms have been flattened accordingly\".\\n\\nTitian continued to paint royal portraits, especially of Philip II of Spain, until the 1570s, but in sharply reduce')]"
            ]
          },
          "metadata": {},
          "execution_count": 19
        }
      ]
    },
    {
      "cell_type": "code",
      "source": [
        "from langchain.text_splitter import TokenTextSplitter\n",
        "text_splitter = TokenTextSplitter(chunk_size=512, chunk_overlap=24)\n",
        "documents = text_splitter.split_documents(raw_documents)\n",
        "print(len(documents))"
      ],
      "metadata": {
        "id": "5ChZ008I6paW",
        "colab": {
          "base_uri": "https://localhost:8080/"
        },
        "outputId": "7d915573-ab96-4d57-ba4f-7e1463b62655"
      },
      "execution_count": null,
      "outputs": [
        {
          "output_type": "stream",
          "name": "stdout",
          "text": [
            "19\n"
          ]
        }
      ]
    },
    {
      "cell_type": "code",
      "source": [
        "from langchain_openai import ChatOpenAI\n",
        "llm=ChatOpenAI(temperature=0, model_name='gpt-3.5-turbo') #\"gpt-3.5-turbo-0125\")"
      ],
      "metadata": {
        "id": "IMh_IpRb78rs"
      },
      "execution_count": null,
      "outputs": []
    },
    {
      "cell_type": "code",
      "source": [
        "from langchain_experimental.graph_transformers import LLMGraphTransformer\n",
        "llm_transformer = LLMGraphTransformer(llm=llm)"
      ],
      "metadata": {
        "id": "Mer51fZA9pa1"
      },
      "execution_count": null,
      "outputs": []
    },
    {
      "cell_type": "code",
      "source": [
        "graph_documents = llm_transformer.convert_to_graph_documents(documents)"
      ],
      "metadata": {
        "id": "pZP64uFM9vLk"
      },
      "execution_count": null,
      "outputs": []
    },
    {
      "cell_type": "code",
      "source": [
        "graph_documents"
      ],
      "metadata": {
        "colab": {
          "base_uri": "https://localhost:8080/"
        },
        "id": "3Nwjd5yR92VE",
        "outputId": "30cba394-4b7f-44ff-bd6d-9e2f172d777a"
      },
      "execution_count": null,
      "outputs": [
        {
          "output_type": "execute_result",
          "data": {
            "text/plain": [
              "[GraphDocument(nodes=[Node(id='10Th Century', type='Time period'), Node(id='European History', type='History'), Node(id='China', type='Country'), Node(id='Political Upheaval', type='Event'), Node(id='Islamdom', type='Culture'), Node(id='Spain', type='Country'), Node(id='Lynn White', type='Person'), Node(id='Helen Waddell', type='Person'), Node(id='Lorenzo Valla', type='Person'), Node(id='Yogini Goddess', type='Artifact'), Node(id='Kaveripakkam', type='Place'), Node(id='Tamil Nadu', type='Place'), Node(id='Medieval Warm Period', type='Event'), Node(id='Viking Groups', type='Group'), Node(id='Normans', type='Group'), Node(id='Cluny', type='Organization'), Node(id='Magyar Cavalry', type='Group'), Node(id='Mieszko I', type='Person'), Node(id='Poland', type='Country'), Node(id='Khazar Kingdom', type='Kingdom'), Node(id='Kievan Rus', type='Country')], relationships=[Relationship(source=Node(id='10Th Century', type='Time period'), target=Node(id='European History', type='History'), type='RELEVANT'), Relationship(source=Node(id='10Th Century', type='Time period'), target=Node(id='China', type='Country'), type='RELEVANT'), Relationship(source=Node(id='10Th Century', type='Time period'), target=Node(id='Political Upheaval', type='Event'), type='OCCURRED'), Relationship(source=Node(id='10Th Century', type='Time period'), target=Node(id='Islamdom', type='Culture'), type='CULTURAL_ZENITH'), Relationship(source=Node(id='10Th Century', type='Time period'), target=Node(id='Spain', type='Country'), type='CULTURAL_ZENITH'), Relationship(source=Node(id='Lynn White', type='Person'), target=Node(id='10Th Century', type='Time period'), type='COMMENTED_ON'), Relationship(source=Node(id='Helen Waddell', type='Person'), target=Node(id='10Th Century', type='Time period'), type='COMMENTED_ON'), Relationship(source=Node(id='Lorenzo Valla', type='Person'), target=Node(id='10Th Century', type='Time period'), type='DESCRIBED_AS'), Relationship(source=Node(id='Yogini Goddess', type='Artifact'), target=Node(id='Kaveripakkam', type='Place'), type='CREATED_IN'), Relationship(source=Node(id='Kaveripakkam', type='Place'), target=Node(id='Tamil Nadu', type='Place'), type='LOCATED_IN'), Relationship(source=Node(id='10Th Century', type='Time period'), target=Node(id='Medieval Warm Period', type='Event'), type='STARTED_IN'), Relationship(source=Node(id='Viking Groups', type='Group'), target=Node(id='Normans', type='Group'), type='EVOLVED_INTO'), Relationship(source=Node(id='10Th Century', type='Time period'), target=Node(id='Cluny', type='Organization'), type='FOUNDED_IN'), Relationship(source=Node(id='Magyar Cavalry', type='Group'), target=Node(id='Germany', type='Country'), type='EXPEDITIONS_IN'), Relationship(source=Node(id='Magyar Cavalry', type='Group'), target=Node(id='Italy', type='Country'), type='EXPEDITIONS_IN'), Relationship(source=Node(id='Magyar Cavalry', type='Group'), target=Node(id='France', type='Country'), type='EXPEDITIONS_IN'), Relationship(source=Node(id='Mieszko I', type='Person'), target=Node(id='Poland', type='Country'), type='FIRST_DUKE_OF'), Relationship(source=Node(id='Mieszko I', type='Person'), target=Node(id='966', type='Time period'), type='BAPTISED_IN'), Relationship(source=Node(id='Khazar Kingdom', type='Kingdom'), target=Node(id='Kievan Rus', type='Country'), type='DEFEATED_BY')], source=Document(metadata={'source': '10th century.txt'}, page_content='   #copyright\\n\\n10th century\\n\\n2007 Schools Wikipedia Selection. Related subjects: General history\\n\\n   Millennium: 1st millennium BC - 1st millennium - 2nd millennium\\n   Centuries:     9th century - 10th century - 11th century\\n     Decades: 900s 910s 920s 930s 940s 950s 960s 970s 980s 990s\\n\\n   As a means of recording the passage of time, the 10th century was that\\n   century which lasted from 901 to 1000.\\n\\nOverview\\n\\n   The tenth century is usually regarded as a low point in European\\n   history. In China it was also a period of political upheaval. In\\n   Islamdom, however, it was a cultural zenith, especially in Spain.\\n\\n   Medievalist and historian of technology Lynn White said that \"to the\\n   modern eye, it is very nearly the darkest of the Dark Ages,\" but\\n   concluded that \". . . if it was dark, it was the darkness of the womb.\"\\n   Similarly, Helen Waddell wrote that the tenth century was that which\\n   \"in the textbooks disputes with the seventh the bad eminence, the nadir\\n   of the human intellect.\" Even in the fifteenth century, Lorenzo Valla\\n   described it as the Century of Lead and Iron.\\n\\nEvents\\n\\n   This statue of a yogini goddess was created in Kaveripakkam in Tamil\\n   Nadu, India, during the 10th century.\\n   Enlarge\\n   This statue of a yogini goddess was created in Kaveripakkam in Tamil\\n   Nadu, India, during the 10th century.\\n     * The beginning of the Medieval Warm Period\\n     * Viking groups settle in northern France - Norse become Normans\\n     * Foundation of Cluny, first federated monastic order\\n     * Incursions of Magyar (Hungarian) cavalry throughout Western Europe\\n       (47 expeditions in Germany, Italy and France, 899 - 970)\\n     * Mieszko I, first duke of Poland, baptised a Christian in 966\\n     * Khazar kingdom is attacked and defeated by Kievan Rus (')),\n",
              " GraphDocument(nodes=[Node(id='Christian', type='Religion'), Node(id='Khazar Kingdom', type='Kingdom'), Node(id='Kievan Rus', type='Kingdom'), Node(id='Vladimir I', type='Person'), Node(id='Maya Civilization', type='Civilization'), Node(id='Toltecs', type='Civilization'), Node(id='Great Moravia', type='Kingdom'), Node(id='Buddhist Temple', type='Construction'), Node(id='Bagan', type='City'), Node(id='Myanmar', type='Country'), Node(id='Laguna Copperplate Inscription', type='Artifact'), Node(id='Kavi Script', type='Script'), Node(id='Luzon', type='Island'), Node(id='Philippines', type='Country'), Node(id='Croatian State', type='State'), Node(id='Tomislav', type='Person'), Node(id='Jean Meeus', type='Person'), Node(id='Nine Planets', type='Celestial body'), Node(id='Solar System', type='Celestial system'), Node(id='Malay Peninsula', type='Region'), Node(id='Malay Kingdoms', type='Kingdom'), Node(id='Fatimid Dynasty', type='Dynasty'), Node(id='Algeria', type='Country'), Node(id='Sweden', type='Country'), Node(id='Black Sea', type='Sea'), Node(id='Nubian Kingdom', type='Kingdom'), Node(id='Sudan', type='Country'), Node(id='Mississippian Culture', type='Culture'), Node(id='Southern Usa', type='Region'), Node(id='Byzantine Empire', type='Empire'), Node(id='Baile Átha Cliath', type='City'), Node(id='Dublin', type='City'), Node(id='Reindeer', type='Animal'), Node(id='Scotland', type='Country'), Node(id='Lions', type='Animal'), Node(id='Caucasus', type='Region'), Node(id='Topiltzin Ce Acatl Quetzalcoatl', type='Person')], relationships=[Relationship(source=Node(id='Khazar Kingdom', type='Kingdom'), target=Node(id='Kievan Rus', type='Kingdom'), type='CONFLICT'), Relationship(source=Node(id='Vladimir I', type='Person'), target=Node(id='Christian', type='Religion'), type='CONVERSION'), Relationship(source=Node(id='Maya Civilization', type='Civilization'), target=Node(id='Toltecs', type='Civilization'), type='SUCCESSION'), Relationship(source=Node(id='Great Moravia', type='Kingdom'), target=Node(id='Collapse', type='Event'), type='END'), Relationship(source=Node(id='Buddhist Temple', type='Construction'), target=Node(id='Bagan', type='City'), type='COMMENCEMENT'), Relationship(source=Node(id='Laguna Copperplate Inscription', type='Artifact'), target=Node(id='Kavi Script', type='Script'), type='INSCRIPTION'), Relationship(source=Node(id='Laguna Copperplate Inscription', type='Artifact'), target=Node(id='Luzon', type='Island'), type='LOCATION'), Relationship(source=Node(id='Laguna Copperplate Inscription', type='Artifact'), target=Node(id='Philippines', type='Country'), type='LOCATION'), Relationship(source=Node(id='Croatian State', type='State'), target=Node(id='Tomislav', type='Person'), type='UNIFICATION'), Relationship(source=Node(id='Jean Meeus', type='Person'), target=Node(id='Nine Planets', type='Celestial body'), type='ASSERTION'), Relationship(source=Node(id='Nine Planets', type='Celestial body'), target=Node(id='Solar System', type='Celestial system'), type='LOCATION'), Relationship(source=Node(id='Malay Peninsula', type='Region'), target=Node(id='Malay Kingdoms', type='Kingdom'), type='FOUNDATION'), Relationship(source=Node(id='Fatimid Dynasty', type='Dynasty'), target=Node(id='Algeria', type='Country'), type='EMERGENCE'), Relationship(source=Node(id='Sweden', type='Country'), target=Node(id='Black Sea', type='Sea'), type='EXPANSION'), Relationship(source=Node(id='Nubian Kingdom', type='Kingdom'), target=Node(id='Sudan', type='Country'), type='PEAK'), Relationship(source=Node(id='Mississippian Culture', type='Culture'), target=Node(id='Southern Usa', type='Region'), type='ORIGIN'), Relationship(source=Node(id='Byzantine Empire', type='Empire'), target=Node(id='Military Strength', type='Attribute'), type='PEAK'), Relationship(source=Node(id='Byzantine Empire', type='Empire'), target=Node(id='Economic Strength', type='Attribute'), type='PEAK'), Relationship(source=Node(id='Baile Átha Cliath', type='City'), target=Node(id='Dublin', type='City'), type='FOUNDATION'), Relationship(source=Node(id='Reindeer', type='Animal'), target=Node(id='Scotland', type='Country'), type='EXTINCTION'), Relationship(source=Node(id='Lions', type='Animal'), target=Node(id='Caucasus', type='Region'), type='EXTINCTION'), Relationship(source=Node(id='Topiltzin Ce Acatl Quetzalcoatl', type='Person'), target=Node(id='Toltecs', type='Civilization'), type='RULER')], source=Document(metadata={'source': '10th century.txt'}, page_content=' a Christian in 966\\n     * Khazar kingdom is attacked and defeated by Kievan Rus ( 965)\\n     * Vladimir I, Prince of Kievan Rus, baptised a Christian in 988\\n     * Collapse of the central lowland Maya civilization. End of Classic\\n       Maya period, begin Post-Classic Maya.\\n     * Rise of the Toltecs in Mexico.\\n     * Collapse of Great Moravia\\n     * Buddhist temple construction commences at Bagan, Myanmar\\n     * Laguna Copperplate Inscription, Kavi script, inscribed in Luzon,\\n       Philippines, dated Saka year 822 (AD 900).\\n     * The medieval Croatian state becomes a unified kingdom under\\n       Tomislav\\n     * Twentieth century Belgian astronomer Jean Meeus asserts that the\\n       orbits of all nine planets were within the same 90% arc of the\\n       solar system on 1 February 949. The next time it is thought this\\n       will occur is on 6 May 1492.\\n     * Coastal cities on the Malay Peninsula are the seed for the first\\n       recorded Malay kingdoms.\\n     * The Fatimid dynasty arises in eastern Algeria.\\n     * Swedish influence extends to the Black Sea.\\n     * The Christian Nubian kingdom reaches its peak of prosperity and\\n       military power. ( Early history of Sudan)\\n     * The Mississippian culture begins in present day Southern USA.\\n     * The Byzantine empire reaches the height of its military and\\n       economic strength\\n     * Baile Átha Cliath (Dublin) was founded ( 988).\\n     * Reindeer become extinct in Scotland.\\n     * Lions become extinct in Caucasus.\\n\\nSignificant people\\n\\n     * Topiltzin Ce Acatl Quetzalcoatl, semi-legendaric Toltec ruler,\\n       (exact years of his life are unknown).\\n  ')),\n",
              " GraphDocument(nodes=[Node(id='Toltec Ruler', type='Person'), Node(id='Abd-Ar-Rahman Iii Of Cordoba', type='Person'), Node(id='Nicephorus Ii, Emperor Of The Eastern Roman Empire', type='Person'), Node(id='Otto I The Great, Holy Roman Emperor', type='Person'), Node(id='King Edmund I Of England', type='Person'), Node(id='John I Tzimisces, Emperor Of The Eastern Roman Empire', type='Person'), Node(id='Hugh Capet', type='Person'), Node(id='Géza Of Hungary, Ruler Of The Magyars', type='Person'), Node(id='Otto Ii, Holy Roman Emperor', type='Person'), Node(id='Theophanu', type='Person'), Node(id='Tsar Samuil Of Bulgaria', type='Person'), Node(id='Vladimir I, Prince Of Kievan Rus', type='Person'), Node(id='Basil Ii, Emperor Of The Eastern Roman Empire', type='Person'), Node(id='Otto Iii, Holy Roman Emperor', type='Person'), Node(id='Ferdowsi', type='Person'), Node(id='Erik The Red Viking Explorer', type='Person'), Node(id='Ubayd Allah Al-Mahdi Billah', type='Person')], relationships=[], source=Document(metadata={'source': '10th century.txt'}, page_content=' Toltec ruler,\\n       (exact years of his life are unknown).\\n     * Abd-ar-rahman III of Cordoba\\n     * Nicephorus II, Emperor of the Eastern Roman Empire (lived 912 -\\n       969, reigned 963 - 969).\\n     * Otto I the Great, Holy Roman Emperor (lived 912 - 973, reigned 936\\n       - 973).\\n     * King Edmund I of England (lived 921 - 946, reigned 939 - 946).\\n     * John I Tzimisces, Emperor of the Eastern Roman Empire (lived 925 -\\n       976, reigned 969 - 976).\\n     * Hugh Capet (lived 938 - 996), first Capetian King of France\\n     * Géza of Hungary, ruler of the Magyars (lived 940 - 997, reigned 970\\n       - 997).\\n     * Otto II, Holy Roman Emperor (lived 955 - 983, reigned 973 - 983).\\n     * Theophanu, wife of Otto II, mother and Regent of Otto III, (lived\\n       956 - 991, reigned 983- 991).\\n     * Tsar Samuil of Bulgaria (lived 958 - 1014, reigned 976 - 1014).\\n     * Vladimir I, Prince of Kievan Rus (lived 958 - 1015).\\n     * Basil II, Emperor of the Eastern Roman Empire, (lived 958 - 1025,\\n       reigned 976 - 1025).\\n     * Otto III, Holy Roman Emperor (lived 980 - 1002, reigned 983 -\\n       1002).\\n     * Ferdowsi Persian poet\\n     * Erik the Red Viking Explorer, founded Greenland\\n     * Ubayd Allah al-Mahdi Billah, founder of the Fatamid dynasty in 909.\\n\\nInventions, discoveries, introductions\\n\\n ')),\n",
              " GraphDocument(nodes=[Node(id='Fatamid Dynasty', type='Person'), Node(id='Hop', type='Plant')], relationships=[Relationship(source=Node(id='Fatamid Dynasty', type='Person'), target=Node(id='Hop', type='Plant'), type='MENTIONED_IN_CONNECTION_WITH')], source=Document(metadata={'source': '10th century.txt'}, page_content='ah, founder of the Fatamid dynasty in 909.\\n\\nInventions, discoveries, introductions\\n\\n     * Hop (plant) first mentioned in connection with beer brewing\\n\\nDecades and years\\n\\n   890s  890  891  892  893  894  895  896  897  898  899\\n   900s  900  901  902  903  904  905  906  907  908  909\\n   910s  910  911  912  913  914  915  916  917  918  919\\n   920s  920  921  922  923  924  925  926  927  928  929\\n   930s  930  931  932  933  934  935  936  937  938  939\\n   940s  940  941  942  943  944  945  946  947  948  949\\n   950s  950  951  952  953  954  955  956  957  958  959\\n   960s  960  961  962  963  964  965  966  967  968  969\\n   970s  970  971  972  973  974  975  976  977  978  979\\n   980s  980  981  982  983  984  985  986  987  988  989\\n   990s  990  991  992  993  994  995  996  997  998  999\\n   1000s 1000 1001 1002 1003 1004 1005 1006 1007 1008 1009\\n   Retrieved from \" http://en.wikipedia.org/wiki/10th_century\"\\n   This reference article is mainly selected from the English Wikipedia\\n   with only minor checks and changes (see www.wikipedia.org for details\\n   of authors and sources) and is')),\n",
              " GraphDocument(nodes=[Node(id='Wikipedia', type='Website'), Node(id='Gnu Free Documentation License', type='License')], relationships=[Relationship(source=Node(id='Wikipedia', type='Website'), target=Node(id='Gnu Free Documentation License', type='License'), type='LICENSE')], source=Document(metadata={'source': '10th century.txt'}, page_content=' only minor checks and changes (see www.wikipedia.org for details\\n   of authors and sources) and is available under the GNU Free\\n   Documentation License. See also our Disclaimer.\\n')),\n",
              " GraphDocument(nodes=[Node(id='Beer', type='Beverage'), Node(id='Michael Jackson', type='Person'), Node(id='Ancient Egypt', type='Historical civilization'), Node(id='Mesopotamia', type='Historical civilization'), Node(id='Europe', type='Continent'), Node(id='Monasteries', type='Institution')], relationships=[Relationship(source=Node(id='Beer', type='Beverage'), target=Node(id='Michael Jackson', type='Person'), type='NOTED_BY'), Relationship(source=Node(id='Beer', type='Beverage'), target=Node(id='Ancient Egypt', type='Historical civilization'), type='ORIGINATED_IN'), Relationship(source=Node(id='Beer', type='Beverage'), target=Node(id='Mesopotamia', type='Historical civilization'), type='ORIGINATED_IN'), Relationship(source=Node(id='Beer', type='Beverage'), target=Node(id='Europe', type='Continent'), type='PRODUCTION_LOCATION'), Relationship(source=Node(id='Beer', type='Beverage'), target=Node(id='Monasteries', type='Institution'), type='PRODUCED_BY')], source=Document(metadata={'source': 'beer.txt'}, page_content=\"   #copyright\\n\\nBeer\\n\\n2007 Schools Wikipedia Selection. Related subjects: Drink\\n\\n   A selection of bottled beers\\n   Enlarge\\n   A selection of bottled beers\\n   A selection of cask beers\\n   Enlarge\\n   A selection of cask beers\\n\\n   Beer is one of the world's oldest alcoholic beverages, possibly brewed\\n   for the first time over 10,000 years ago, according to renowned beer\\n   writer Michael Jackson. It is a fermented beverage most often made from\\n   malted barley, hops, yeast and water, and is carbonated in almost all\\n   cases. By altering the production method (changes in time and\\n   temperature, for example) or the ingredients, a staggeringly wide\\n   variety of different types of beer can be produced. Much like fine\\n   wines, many beers can also be aged and evolve into beverages that defy\\n   the common definitions of beer.\\n\\nHistory\\n\\n   Beer is one of the oldest human-produced beverages, possibly dating\\n   back to at least the 7th millennium BC (perhaps prior even to bread),\\n   and recorded in the written history of Ancient Egypt and Mesopotamia.\\n   Earliest known chemical evidence of beer dates to circa 3500-3100 BC.\\n   As almost any substance containing carbohydrates, namely sugar or\\n   starch, can naturally undergo fermentation, it is likely that beer-like\\n   beverages were independently invented among various cultures throughout\\n   the world.\\n\\n   In Egypt, Mesopotamia, and the Levant, large-scale production of beer\\n   was common. In Europe, beer was being produced by or for monasteries as\\n   early as the 7th century. By the 14th and 15th centuries, beer had\\n   achieved great popularity, at least in part because health epidemics\\n   made drinking beer safer than drinking water. However it was not until\\n   the 17th century, according to Michael Jackson, that beer took on the\\n   styles and flavours that we might recognise in the beers of today.\\n\\n   Today, the brewing industry is a huge global business, consisting of\\n   several multinational companies, and many thousands of smaller\\n   producers ranging from brewpubs to regional breweries.\\n\\nBrewing\\n\\n   Though the process of brewing beer is complex and varies\")),\n",
              " GraphDocument(nodes=[Node(id='Brewing', type='Process'), Node(id='Mashing', type='Brewing stage'), Node(id='Sparging', type='Brewing stage'), Node(id='Boiling', type='Brewing stage')], relationships=[Relationship(source=Node(id='Brewing', type='Process'), target=Node(id='Mashing', type='Brewing stage'), type='BREWING_STAGE'), Relationship(source=Node(id='Brewing', type='Process'), target=Node(id='Sparging', type='Brewing stage'), type='BREWING_STAGE'), Relationship(source=Node(id='Brewing', type='Process'), target=Node(id='Boiling', type='Brewing stage'), type='BREWING_STAGE')], source=Document(metadata={'source': 'beer.txt'}, page_content=' brewpubs to regional breweries.\\n\\nBrewing\\n\\n   Though the process of brewing beer is complex and varies considerably,\\n   the basic stages that are consistent are outlined below. There may be\\n   additional filtration steps between stages.\\n   Enlarge\\n    1. Mashing: The first phase of brewing, in which the malted grains are\\n       crushed and soaked in warm water in order to create a malt extract.\\n       The mash is held at constant temperature long enough for enzymes to\\n       convert starches into fermentable sugars, usually about 45 to 90\\n       minutes, depending on mash temperature (high temperatures =\\n       faster). The temperature is typically held at either a single\\n       temperature (single step) or a series of temperatures depending on\\n       the enzymes one wants to focus on. Typically with modern\\n       fully-modified malts, a single-stage infusion is all that is\\n       required. For most mashes, a temperature between 65-67°C\\n       (150-154°F) is typical, with higher temperatures yielding fuller\\n       bodied beers, and lower temperatures yielding more fermentable and\\n       lighter bodied beers. Multi-temperature mashes are used for\\n       acid-buffering reactions and protein rests for head-retention for\\n       some types of malts.\\n    2. Sparging: Water is filtered through the mash to dissolve the\\n       sugars. The darker, sugar-heavy liquid is called the wort.\\n       Typically the rinse water (sparge) is held between 76-82°C\\n       (170-180°F) to (1) keep sugars and gums from setting up and (2)\\n       above 82°C (180°F), tannin extraction could be a problem.\\n    3. Boiling: The wort is boiled along with any remaining ingredients\\n       (excluding yeast), to remove excess water and kill any\\n   ')),\n",
              " GraphDocument(nodes=[Node(id='Boiling', type='Process'), Node(id='Proteins', type='Substance'), Node(id='Hops', type='Ingredient'), Node(id='Yeast', type='Ingredient'), Node(id='Beer', type='Beverage'), Node(id='Carbon Dioxide', type='Gas'), Node(id='Co2', type='Gas'), Node(id='Sugar', type='Ingredient'), Node(id='Wort', type='Ingredient')], relationships=[Relationship(source=Node(id='Boiling', type='Process'), target=Node(id='Proteins', type='Substance'), type='SETTING'), Relationship(source=Node(id='Boiling', type='Process'), target=Node(id='Hops', type='Ingredient'), type='ADDING'), Relationship(source=Node(id='Boiling', type='Process'), target=Node(id='Yeast', type='Ingredient'), type='EXCLUDING'), Relationship(source=Node(id='Beer', type='Beverage'), target=Node(id='Carbon Dioxide', type='Gas'), type='CONTAINING'), Relationship(source=Node(id='Beer', type='Beverage'), target=Node(id='Yeast', type='Ingredient'), type='SETTLING'), Relationship(source=Node(id='Beer', type='Beverage'), target=Node(id='Trub', type='Substance'), type='SETTLING'), Relationship(source=Node(id='Beer', type='Beverage'), target=Node(id='Alcohol', type='Substance'), type='CONTAINING'), Relationship(source=Node(id='Beer', type='Beverage'), target=Node(id='Co2', type='Gas'), type='INCREASING'), Relationship(source=Node(id='Beer', type='Beverage'), target=Node(id='Sugar', type='Ingredient'), type='ADDING'), Relationship(source=Node(id='Beer', type='Beverage'), target=Node(id='Wort', type='Ingredient'), type='ADDING')], source=Document(metadata={'source': 'beer.txt'}, page_content=' remaining ingredients\\n       (excluding yeast), to remove excess water and kill any\\n       microorganisms. The main function of boiling is to set proteins and\\n       such similar to cooking bread. The hops (whole, pelleted, or\\n       extract) are added at some stage during the boil. Bittering hops\\n       are added during the entire boil (1 hour +), flavoring are added\\n       between about 5 - 20 minutes, and aroma hops are added at 5 minutes\\n       or less.\\n    4. Fermentation: The yeast is added (or \"pitched\") and the beer is\\n       left to ferment. After primary fermentation, the beer may be\\n       allowed a second fermentation, which allows further settling of\\n       yeast and other particulate matter (\"trub\") which may have been\\n       introduced earlier in the process. Some brewers may skip the\\n       secondary fermentation and simply filter off the yeast.\\n    5. Packaging: At this point, the beer contains alcohol, but not much\\n       carbon dioxide. The brewer has a few options to increase carbon\\n       dioxide levels. The most common approach by large-scale brewers is\\n       force carbonation, via the direct addition of CO[2] gas to the keg\\n       or bottle. Smaller-scale or more classically-minded brewers will\\n       add extra (\"priming\") sugar (usually about 5 oz corn sugar per 5\\n       gal) or a small amount of newly fermenting wort (\"kräusen\") to the\\n       final vessel, resulting in a short refermentation known as \"cask-\"\\n       or \"bottle conditioning\". This can be done by \"bulk priming\" or\\n       \"bottle priming\" methods. Bulk priming is the process of addiing\\n       the additional sugar to the entirety of the beer. Bottle priming is\\n       adding')),\n",
              " GraphDocument(nodes=[Node(id='Sugar', type='Ingredient'), Node(id='Beer', type='Ingredient'), Node(id='Bottle', type='Tool'), Node(id='Keg', type='Tool'), Node(id='Cask', type='Tool'), Node(id='Conditioning Tanks', type='Tool'), Node(id='Casks', type='Tool'), Node(id='Bottles', type='Tool'), Node(id='Yeast', type='Ingredient'), Node(id='Malted Barley', type='Ingredient'), Node(id='Water', type='Ingredient'), Node(id='Starch Source', type='Ingredient'), Node(id='Flavouring', type='Ingredient'), Node(id='Hops', type='Ingredient')], relationships=[Relationship(source=Node(id='Sugar', type='Ingredient'), target=Node(id='Beer', type='Ingredient'), type='ADDED_TO'), Relationship(source=Node(id='Beer', type='Ingredient'), target=Node(id='Bottle', type='Tool'), type='PRIMED_IN'), Relationship(source=Node(id='Beer', type='Ingredient'), target=Node(id='Keg', type='Tool'), type='STORED_IN'), Relationship(source=Node(id='Beer', type='Ingredient'), target=Node(id='Cask', type='Tool'), type='STORED_IN'), Relationship(source=Node(id='Beer', type='Ingredient'), target=Node(id='Bottles', type='Tool'), type='STORED_IN'), Relationship(source=Node(id='Malted Barley', type='Ingredient'), target=Node(id='Beer', type='Ingredient'), type='SOURCE_OF'), Relationship(source=Node(id='Water', type='Ingredient'), target=Node(id='Beer', type='Ingredient'), type='COMPONENT_OF'), Relationship(source=Node(id='Starch Source', type='Ingredient'), target=Node(id='Beer', type='Ingredient'), type='COMPONENT_OF'), Relationship(source=Node(id='Yeast', type='Ingredient'), target=Node(id='Beer', type='Ingredient'), type='COMPONENT_OF'), Relationship(source=Node(id='Flavouring', type='Ingredient'), target=Node(id='Beer', type='Ingredient'), type='ADDED_TO'), Relationship(source=Node(id='Hops', type='Ingredient'), target=Node(id='Beer', type='Ingredient'), type='ADDED_TO')], source=Document(metadata={'source': 'beer.txt'}, page_content='   the additional sugar to the entirety of the beer. Bottle priming is\\n       adding it to each bottle individually.\\n\\n   After brewing, the beer is usually a finished product. At this point\\n   the beer is kegged, casked, bottled, or canned.\\n\\n   Unfiltered beers may be stored for further fermentation in conditioning\\n   tanks, casks or bottles to allow smoothing of harsh alcohol notes,\\n   integration of heavy hop flavours, and/or the introduction of oxidised\\n   notes such as wine or sherry flavours. Some beer enthusiasts consider a\\n   long conditioning period attractive for various strong beers such as\\n   Barley wines. There are some beer cafes in Europe, such as Kulminator\\n   in Antwerp, which stock beers aged ten years or more. Aged beers such\\n   as Bass Kings Ale from 1902, Courage Imperial Russian Stout and Thomas\\n   Hardys Ale are particularly valued.\\n\\nIngredients\\n\\n   Malted barley before roasting\\n   Enlarge\\n   Malted barley before roasting\\n\\n   The basic ingredients of beer are water, a fermentable starch source,\\n   such as malted barley, and yeast. It is common for a flavouring to be\\n   added, the most popular being hops. A mixture of starch sources may be\\n   used, with the secondary starch source, such as corn, rice and sugar,\\n   often being termed an adjunct, especially when used as a lower cost\\n   substitute for malted barley.\\n\\nWater\\n\\n   Beer is composed mainly of water, which when heated is known as brewing\\n   liquor. The characteristics of the water have an influence on the\\n   character of the beer. Although the effect of, and interactions\\n   between, various dissolved minerals in brewing water is complex, as a\\n   general rule, hard water is more suited to dark beer such as stout,\\n   while very soft water is more suited for brewing pale ale and pale\\n   lager.\\n\\nHops\\n\\n   Hops have commonly been used as a bittering agent in beer for over a\\n   thousand years, the earliest evidence of cultivation for this purpose\\n   dates back to the seventeenth century (according to Judith M. Bennett).\\n   Hops contain several characteristics very favourable to beer:')),\n",
              " GraphDocument(nodes=[Node(id='Seventeenth Century', type='Time period'), Node(id='Judith M. Bennett', type='Person'), Node(id='Hops', type='Ingredient'), Node(id='Yeast', type='Ingredient'), Node(id='Clarifying Agent', type='Ingredient'), Node(id='Styles', type='Concept'), Node(id='International Bitterness Units Scale', type='Measurement scale'), Node(id='Farmers', type='Occupation')], relationships=[Relationship(source=Node(id='Seventeenth Century', type='Time period'), target=Node(id='Judith M. Bennett', type='Person'), type='MENTIONED_IN'), Relationship(source=Node(id='Hops', type='Ingredient'), target=Node(id='International Bitterness Units Scale', type='Measurement scale'), type='MEASURES_BITTERNESS'), Relationship(source=Node(id='Hops', type='Ingredient'), target=Node(id='Farmers', type='Occupation'), type='GROWN_BY'), Relationship(source=Node(id='Yeast', type='Ingredient'), target=Node(id='Styles', type='Concept'), type='USED_IN_PRODUCTION'), Relationship(source=Node(id='Clarifying Agent', type='Ingredient'), target=Node(id='Styles', type='Concept'), type='USED_IN_PRODUCTION')], source=Document(metadata={'source': 'beer.txt'}, page_content=' seventeenth century (according to Judith M. Bennett).\\n   Hops contain several characteristics very favourable to beer: (a) hops\\n   contribute a bitterness that balances the sweetness of the malt, (b)\\n   hops also contribute aromas which range from flowery to citrus to\\n   herbal, (c) hops have an antibiotic effect that favours the activity of\\n   brewer\\'s yeast over less desirable microorganisms and (d) the use of\\n   hops aids in \" head retention\", the length of time that a foamy head\\n   created by the beer\\'s carbonation agent will last. The bitterness of\\n   commercially-brewed beers is measured on the International Bitterness\\n   Units scale. While hop plants are grown by farmers all around the world\\n   in many different varieties, there is no major commercial use for hops\\n   other than in beer.\\n\\nYeast\\n\\n   A microorganism that is responsible for fermentation. A specific strain\\n   of yeast is chosen depending on the type of beer being produced, the\\n   two main strains being ale yeast ( Saccharomyces cerevisiae) and lager\\n   yeast ( Saccharomyces uvarum), with some other variations available,\\n   such as Brettanomyces and Torulaspora delbrueckii. Yeast will\\n   metabolise the sugars extracted from the grains, and produce alcohol\\n   and carbon dioxide as a result. Before yeast\\'s functions were\\n   understood, fermentations were conducted naturally using wild or\\n   airborne yeasts; although a few styles such as lambics still rely on\\n   this ancient method, most modern fermentations are conducted using pure\\n   yeast cultures.\\n\\nClarifying agent\\n\\n   Some brewers add one or more clarifying agents to beer that are not\\n   required to be published as ingredients. Common examples of these\\n   include Isinglass finings, obtained from swimbladders of fish; kappa\\n   carrageenan, derived from seaweed; Irish moss, a type of red alga;\\n   polyclar (artificial), and gelatin.\\n\\nStyles\\n\\n   A great many different types, or styles, of beer are brewed across the\\n   globe. The traditional European brewing nations - the United Kingdom,\\n   Ireland, Germany, Belgium, the Czech Republic')),\n",
              " GraphDocument(nodes=[Node(id='European Brewing Nations', type='Country'), Node(id='United Kingdom', type='Country'), Node(id='Ireland', type='Country'), Node(id='Germany', type='Country'), Node(id='Belgium', type='Country'), Node(id='Czech Republic', type='Country'), Node(id='Denmark', type='Country'), Node(id='The Netherlands', type='Country'), Node(id='Austria', type='Country'), Node(id='Usa', type='Country'), Node(id='Canada', type='Country'), Node(id='Australia', type='Country'), Node(id='Belgium Beer Styles', type='Beer style'), Node(id='Trappist Beer', type='Beer style'), Node(id='Lambic Beer', type='Beer style'), Node(id='Germany Regional Beer Types', type='Beer style'), Node(id='Ale', type='Beer type'), Node(id='Lager', type='Beer type')], relationships=[Relationship(source=Node(id='European Brewing Nations', type='Country'), target=Node(id='United Kingdom', type='Country'), type='BREWING'), Relationship(source=Node(id='European Brewing Nations', type='Country'), target=Node(id='Ireland', type='Country'), type='BREWING'), Relationship(source=Node(id='European Brewing Nations', type='Country'), target=Node(id='Germany', type='Country'), type='BREWING'), Relationship(source=Node(id='European Brewing Nations', type='Country'), target=Node(id='Belgium', type='Country'), type='BREWING'), Relationship(source=Node(id='European Brewing Nations', type='Country'), target=Node(id='Czech Republic', type='Country'), type='BREWING'), Relationship(source=Node(id='European Brewing Nations', type='Country'), target=Node(id='Denmark', type='Country'), type='BREWING'), Relationship(source=Node(id='European Brewing Nations', type='Country'), target=Node(id='The Netherlands', type='Country'), type='BREWING'), Relationship(source=Node(id='European Brewing Nations', type='Country'), target=Node(id='Austria', type='Country'), type='BREWING'), Relationship(source=Node(id='Usa', type='Country'), target=Node(id='Ale', type='Beer type'), type='ADAPTED_STYLE'), Relationship(source=Node(id='Canada', type='Country'), target=Node(id='Ale', type='Beer type'), type='ADAPTED_STYLE'), Relationship(source=Node(id='Australia', type='Country'), target=Node(id='Ale', type='Beer type'), type='ADAPTED_STYLE'), Relationship(source=Node(id='Belgium', type='Country'), target=Node(id='Belgium Beer Styles', type='Beer style'), type='HAS_BEER_STYLE'), Relationship(source=Node(id='Belgium', type='Country'), target=Node(id='Trappist Beer', type='Beer style'), type='HAS_BEER_STYLE'), Relationship(source=Node(id='Belgium', type='Country'), target=Node(id='Lambic Beer', type='Beer style'), type='HAS_BEER_STYLE'), Relationship(source=Node(id='Germany', type='Country'), target=Node(id='Germany Regional Beer Types', type='Beer style'), type='HAS_BEER_STYLE')], source=Document(metadata={'source': 'beer.txt'}, page_content=' globe. The traditional European brewing nations - the United Kingdom,\\n   Ireland, Germany, Belgium, the Czech Republic, Denmark, The Netherlands\\n   and Austria - all have their own beer styles. These form the basis of\\n   the vast majority of beer brewed around the world. In some countries -\\n   notably the USA, Canada and Australia - brewers have adapted European\\n   styles to such an extent that they have effectively created their own\\n   indigenous types.\\n\\n   The greatest diversity of flavours and types of beer can be found in\\n   Belgium, as demonstrated by its trappist, lambic and other beer styles.\\n   Germany too has a history of regional beer types, however, over time,\\n   some of these beers have disappeared.\\n\\n   In tasting a beer for the first time, you might begin by asking: do I\\n   like this beer and why? Rather than concerning yourself with the beer\\'s\\n   style, you might consider some of the physical attributes of the beer:\\n   aroma, appearance, mouthfeel (does it feel thin, creamy, syrupy in your\\n   mouth?), taste (sour, sweet, bitter, etc.) and the lack or presence of\\n   discernible alcohol. There are no \"right\" or \"wrong\" answers -- it\\'s\\n   all a matter of taste.\\n\\n   Categorising by yeast\\n\\n   A common method of categorising beer is by the behaviour of the yeast\\n   used in the fermentation process. In this method of categorising, those\\n   beers which use a fast acting yeast which leaves behind residual sugars\\n   are termed ales, while those beers which use a slower and longer acting\\n   yeast which removes most of the sugars leaving a clean and dry beer are\\n   termed lagers.\\n\\nAle\\n\\n   Cask ales\\n   Enlarge\\n   Cask ales\\n\\n   A modern ale is commonly defined by the strain of yeast used and the\\n   fermenting temperature.\\n\\n   Ales are normally brewed with top-fermenting yeasts, though a number of\\n   British brewers, including Fullers and Weltons, use ale yeast strains\\n   that have less pronounced top-fermentation characteristics. The\\n   important distinction for ales is that they are fermented at higher\\n   temperatures and thus ferment')),\n",
              " GraphDocument(nodes=[Node(id='Ale', type='Beer'), Node(id='Lager', type='Beer')], relationships=[Relationship(source=Node(id='Ale', type='Beer'), target=Node(id='Ale', type='Beer'), type='FERMENTED_AT'), Relationship(source=Node(id='Ale', type='Beer'), target=Node(id='Yeast', type='Ingredient'), type='PRODUCES'), Relationship(source=Node(id='Ale', type='Beer'), target=Node(id='Esters', type='Compound'), type='PRODUCES'), Relationship(source=Node(id='Ale', type='Beer'), target=Node(id='Flavour', type='Characteristic'), type='HAS'), Relationship(source=Node(id='Ale', type='Beer'), target=Node(id='Aroma', type='Characteristic'), type='HAS'), Relationship(source=Node(id='Ale', type='Beer'), target=Node(id='Body', type='Characteristic'), type='HAS'), Relationship(source=Node(id='Ale', type='Beer'), target=Node(id='Lager', type='Beer'), type='DIFFICULT_TO_CATEGORIZE'), Relationship(source=Node(id='Ale', type='Beer'), target=Node(id='Steam Beer', type='Beer'), type='DIFFICULT_TO_CATEGORIZE'), Relationship(source=Node(id='Ale', type='Beer'), target=Node(id='Kölsch', type='Beer'), type='DIFFICULT_TO_CATEGORIZE'), Relationship(source=Node(id='Ale', type='Beer'), target=Node(id='Alt', type='Beer'), type='DIFFICULT_TO_CATEGORIZE'), Relationship(source=Node(id='Ale', type='Beer'), target=Node(id='Baltic Porter', type='Beer'), type='DIFFICULT_TO_CATEGORIZE'), Relationship(source=Node(id='Ale', type='Beer'), target=Node(id='Bière De Garde', type='Beer'), type='DIFFICULT_TO_CATEGORIZE'), Relationship(source=Node(id='Ale', type='Beer'), target=Node(id='Lager', type='Beer'), type='PRODUCES'), Relationship(source=Node(id='Ale', type='Beer'), target=Node(id='Sweeter Body', type='Characteristic'), type='HAS'), Relationship(source=Node(id='Ale', type='Beer'), target=Node(id='Fruity Compounds', type='Characteristic'), type='HAS'), Relationship(source=Node(id='Lager', type='Beer'), target=Node(id='Lager', type='Beer'), type='FERMENTED_AT'), Relationship(source=Node(id='Lager', type='Beer'), target=Node(id='Lager Yeast', type='Ingredient'), type='PRODUCES'), Relationship(source=Node(id='Lager', type='Beer'), target=Node(id='Esters', type='Compound'), type='INHIBITS_PRODUCTION'), Relationship(source=Node(id='Lager', type='Beer'), target=Node(id='Flavour', type='Characteristic'), type='HAS'), Relationship(source=Node(id='Lager', type='Beer'), target=Node(id='Aroma', type='Characteristic'), type='HAS'), Relationship(source=Node(id='Lager', type='Beer'), target=Node(id='Cooler Conditions', type='Condition'), type='INHIBITS_PRODUCTION'), Relationship(source=Node(id='Lager', type='Beer'), target=Node(id='Crisper Tasting Beer', type='Characteristic'), type='HAS')], source=Document(metadata={'source': 'beer.txt'}, page_content='. The\\n   important distinction for ales is that they are fermented at higher\\n   temperatures and thus ferment more quickly than lagers.\\n\\n   Ale is typically fermented at temperatures between 15 and 24 °C (60 and\\n   75 °F). At these temperatures, yeast produces significant amounts of\\n   esters and other secondary flavour and aroma products, and the result\\n   is often a beer with slightly \"fruity\" compounds resembling but not\\n   limited to apple, pear, pineapple, banana, plum, or prune. Typical ales\\n   have a sweeter, fuller body than lagers.\\n\\n   Differences between some ales and lagers can be difficult to\\n   categorise. Steam beer, Kölsch, Alt and some modern British Golden\\n   Summer Beers use elements of both lager and ale production. Baltic\\n   Porter and Bière de Garde may be produced by either lager or ale\\n   methods or a combination of both. However, lager production is\\n   perceived to produce cleaner tasting, dryer and lighter beer than ale.\\n\\nLager\\n\\n   A stein of lager\\n   Enlarge\\n   A stein of lager\\n\\n   Lager is the English name for bottom-fermenting beers of Central\\n   European origin. They are the most commonly-consumed beer in the world.\\n   The name comes from the German lagern (\"to store\"). Lager yeast is a\\n   bottom-fermenting yeast, and typically undergoes primary fermentation\\n   at 7-12 °C (45-55 °F) (the \"fermentation phase\"), and then is given a\\n   long secondary fermentation at 0-4 °C (32-40 °F) (the \"lagering\\n   phase\"). During the secondary stage, the lager clears and mellows. The\\n   cooler conditions also inhibit the natural production of esters and\\n   other byproducts, resulting in a \"crisper\" tasting beer.\\n\\n   Modern methods of producing lager were pioneered by Gabriel Sedlmayr\\n   the Younger, who perfected dark brown lagers at the Spaten Brewery in\\n   Bavaria, and Anton Dreher, who began brewing a lager, probably of\\n   amber-red colour, in Vienna in 1840–1841.')),\n",
              " GraphDocument(nodes=[Node(id='Vienna', type='Location'), Node(id='1840–1841', type='Time period'), Node(id='Yeast Strains', type='Organism'), Node(id='Lager Breweries', type='Brewery'), Node(id='Germany', type='Country'), Node(id='Beers', type='Beverage'), Node(id='British Tradition', type='Culture'), Node(id='Lambic Beers', type='Beer type'), Node(id='Wild Yeasts', type='Organism'), Node(id='Saccharomyces', type='Organism'), Node(id='Aroma', type='Characteristic'), Node(id='Sourness', type='Characteristic'), Node(id='Pale And Dark Beer', type='Beer type'), Node(id='Pale Amber', type='Color'), Node(id='Pale Malts', type='Ingredient'), Node(id='Coke', type='Ingredient'), Node(id='Pale Lager', type='Beer type'), Node(id='Plzeň', type='Location'), Node(id='Czech Republic', type='Country'), Node(id='Pilsner Lager', type='Beer type'), Node(id='Carbonation', type='Characteristic'), Node(id='Hop Flavour', type='Characteristic'), Node(id='Alcohol By Volume', type='Characteristic'), Node(id='Pilsner Urquell', type='Beer brand'), Node(id='Heineken', type='Beer brand'), Node(id='Budweiser', type='Beer brand'), Node(id='Coors', type='Beer brand'), Node(id='Miller', type='Beer brand'), Node(id='Dark Beers', type='Beer type'), Node(id='Stout', type='Beer type'), Node(id='Patent Malts', type='Ingredient'), Node(id='Caramel', type='Ingredient'), Node(id='Draught And Keg', type='Serving method'), Node(id='Delirium Café', type='Café')], relationships=[Relationship(source=Node(id='Vienna', type='Location'), target=Node(id='1840–1841', type='Time period'), type='BREWING'), Relationship(source=Node(id='Lager Breweries', type='Brewery'), target=Node(id='Yeast Strains', type='Organism'), type='USAGE'), Relationship(source=Node(id='Germany', type='Country'), target=Node(id='Beers', type='Beverage'), type='STORAGE'), Relationship(source=Node(id='British Tradition', type='Culture'), target=Node(id='Beers', type='Beverage'), type='COLD_CONDITIONING'), Relationship(source=Node(id='Lambic Beers', type='Beer type'), target=Node(id='Wild Yeasts', type='Organism'), type='FERMENTATION'), Relationship(source=Node(id='Wild Yeasts', type='Organism'), target=Node(id='Saccharomyces', type='Organism'), type='COMPARISON'), Relationship(source=Node(id='Wild Yeasts', type='Organism'), target=Node(id='Aroma', type='Characteristic'), type='DIFFERENCE'), Relationship(source=Node(id='Wild Yeasts', type='Organism'), target=Node(id='Sourness', type='Characteristic'), type='DIFFERENCE'), Relationship(source=Node(id='Pale And Dark Beer', type='Beer type'), target=Node(id='Pale Amber', type='Color'), type='PRODUCTION'), Relationship(source=Node(id='Pale Malts', type='Ingredient'), target=Node(id='Pale And Dark Beer', type='Beer type'), type='USAGE'), Relationship(source=Node(id='Coke', type='Ingredient'), target=Node(id='Pale And Dark Beer', type='Beer type'), type='DRYING'), Relationship(source=Node(id='Coke', type='Ingredient'), target=Node(id='1642', type='Time period'), type='FIRST_USE'), Relationship(source=Node(id='Pale And Dark Beer', type='Beer type'), target=Node(id='1703', type='Time period'), type='FIRST_USE'), Relationship(source=Node(id='Pale And Dark Beer', type='Beer type'), target=Node(id='Plzeň', type='Location'), type='ORIGIN'), Relationship(source=Node(id='Plzeň', type='Location'), target=Node(id='Czech Republic', type='Country'), type='LOCATION'), Relationship(source=Node(id='Pilsner Lager', type='Beer type'), target=Node(id='Pale And Dark Beer', type='Beer type'), type='BASED_ON'), Relationship(source=Node(id='Pilsner Lager', type='Beer type'), target=Node(id='1842', type='Time period'), type='BREWING'), Relationship(source=Node(id='Pilsner Lager', type='Beer type'), target=Node(id='Carbonation', type='Characteristic'), type='HIGH'), Relationship(source=Node(id='Pilsner Lager', type='Beer type'), target=Node(id='Hop Flavour', type='Characteristic'), type='STRONG'), Relationship(source=Node(id='Pilsner Lager', type='Beer type'), target=Node(id='Alcohol By Volume', type='Characteristic'), type='CONTENT'), Relationship(source=Node(id='Pilsner Lager', type='Beer type'), target=Node(id='Pilsner Urquell', type='Beer brand'), type='EXAMPLE'), Relationship(source=Node(id='Pilsner Lager', type='Beer type'), target=Node(id='Heineken', type='Beer brand'), type='EXAMPLE'), Relationship(source=Node(id='Pilsner Lager', type='Beer type'), target=Node(id='Budweiser', type='Beer brand'), type='EXAMPLE'), Relationship(source=Node(id='Pilsner Lager', type='Beer type'), target=Node(id='Coors', type='Beer brand'), type='EXAMPLE'), Relationship(source=Node(id='Pilsner Lager', type='Beer type'), target=Node(id='Miller', type='Beer brand'), type='EXAMPLE'), Relationship(source=Node(id='Dark Beers', type='Beer type'), target=Node(id='Pale And Dark Beer', type='Beer type'), type='BASED_ON'), Relationship(source=Node(id='Dark Beers', type='Beer type'), target=Node(id='Pale Malt', type='Ingredient'), type='BASE'), Relationship(source=Node(id='Dark Beers', type='Beer type'), target=Node(id='Darker Malt', type='Ingredient'), type='ADDITION'), Relationship(source=Node(id='Dark Beers', type='Beer type'), target=Node(id='Shade', type='Characteristic'), type='ACHIEVEMENT'), Relationship(source=Node(id='Dark Beers', type='Beer type'), target=Node(id='Caramel', type='Ingredient'), type='COLORANT'), Relationship(source=Node(id='Stout', type='Beer type'), target=Node(id='Dark Beers', type='Beer type'), type='EXAMPLE'), Relationship(source=Node(id='Stout', type='Beer type'), target=Node(id='Dark Malts', type='Ingredient'), type='BASE'), Relationship(source=Node(id='Stout', type='Beer type'), target=Node(id='Patent Malts', type='Ingredient'), type='BASE'), Relationship(source=Node(id='Draught And Keg', type='Serving method'), target=Node(id='Delirium Café', type='Café'), type='LOCATION')], source=Document(metadata={'source': 'beer.txt'}, page_content=\" began brewing a lager, probably of\\n   amber-red colour, in Vienna in 1840–1841. With modern improved yeast\\n   strains, most lager breweries use only short periods of cold storage,\\n   typically 1–3 weeks.\\n\\n   The lagering phase is not restricted to lager beers. In Germany, all\\n   beers are stored at low temperatures before consumption; in the British\\n   tradition, the practice of Cold Conditioning is similar in nature.\\n\\nLambic beers: spontaneous fermentation\\n\\n   Lambic beers use wild yeasts, rather than cultivated ones. Many of\\n   these are not related to brewer's yeast (Saccharomyces), and may have\\n   significant differences in aroma and sourness.\\n\\nPale and dark beer\\n\\n   The most common colour is a pale amber produced from using pale malts.\\n   Pale lager is a term used for beers made from malt dried with coke.\\n   Coke had been first used for roasting malt in 1642, but it wasn't until\\n   around 1703 that the term pale ale was first used. In terms of volume,\\n   most of today's beer is based on the pale lager brewed in 1842 in the\\n   town of Plzeň, in the Czech Republic. The modern Pilsner lager is light\\n   in colour and high in carbonation, with a strong hop flavour and an\\n   alcohol by volume content of around 5%. The Pilsner Urquell and\\n   Heineken brands of beer are typical examples of pale lager, as are the\\n   American brands Budweiser, Coors, and Miller.\\n\\n   Dark beers are usually brewed from a pale malt or pils malt base with a\\n   small proportion of darker malt added to achieve the desired shade.\\n   Other colourants - such as caramel - are also widely used to darken\\n   beers. Very dark beers, such as stout, use dark or patent malts. These\\n   have been roasted longer.\\n\\nServing\\n\\nDraught and keg\\n\\n   Draught beer keg fonts at the Delirium Café in Brussels\\n   Enlarge\\n   Draught beer keg fonts at the Delirium Café in Brussels\\n\\n   Draught beer from a pressurized keg is the most common\")),\n",
              " GraphDocument(nodes=[Node(id='Delirium Café', type='Location'), Node(id='Draught Beer', type='Beverage'), Node(id='Metal Keg', type='Container'), Node(id='Carbon Dioxide', type='Gas'), Node(id='Dispensing Tap', type='Equipment'), Node(id='Faucet', type='Equipment'), Node(id='Stouts', type='Beer style'), Node(id='Guinness', type='Beer brand'), Node(id='Smooth Bitters', type='Beer style'), Node(id='Boddingtons', type='Beer brand'), Node(id='Nitrogen', type='Gas'), Node(id='Fine Bubbles', type='Characteristic'), Node(id='Dense Head', type='Characteristic'), Node(id='Creamy Mouthfeel', type='Characteristic'), Node(id='Beer Widget', type='Equipment'), Node(id='Draft', type='Marketing term'), Node(id='Draught', type='Marketing term'), Node(id='Cask Ales', type='Beer style'), Node(id='Schlenkerla Rauchbier', type='Beer brand'), Node(id='Cask', type='Container'), Node(id='Pub', type='Location'), Node(id='Stillage', type='Equipment'), Node(id='Cellar Temperature', type='Temperature'), Node(id='Tap', type='Equipment'), Node(id='Rubber Bung', type='Equipment'), Node(id='Hard Spile', type='Equipment'), Node(id='Sediment', type='Characteristic'), Node(id='Condition', type='Process'), Node(id='Gravity-Fed', type='Process'), Node(id='Bottles', type='Container'), Node(id='Filtered Beer', type='Beer type'), Node(id='Bottle Conditioned Beers', type='Beer type')], relationships=[Relationship(source=Node(id='Draught Beer', type='Beverage'), target=Node(id='Metal Keg', type='Container'), type='DISPENSE_METHOD'), Relationship(source=Node(id='Metal Keg', type='Container'), target=Node(id='Carbon Dioxide', type='Gas'), type='PRESSURIZATION'), Relationship(source=Node(id='Carbon Dioxide', type='Gas'), target=Node(id='Dispensing Tap', type='Equipment'), type='DRIVING_FORCE'), Relationship(source=Node(id='Carbon Dioxide', type='Gas'), target=Node(id='Faucet', type='Equipment'), type='DRIVING_FORCE'), Relationship(source=Node(id='Stouts', type='Beer style'), target=Node(id='Guinness', type='Beer brand'), type='SERVED_WITH'), Relationship(source=Node(id='Smooth Bitters', type='Beer style'), target=Node(id='Boddingtons', type='Beer brand'), type='SERVED_WITH'), Relationship(source=Node(id='Nitrogen', type='Gas'), target=Node(id='Fine Bubbles', type='Characteristic'), type='PRODUCTION_EFFECT'), Relationship(source=Node(id='Fine Bubbles', type='Characteristic'), target=Node(id='Dense Head', type='Characteristic'), type='RESULT_IN'), Relationship(source=Node(id='Dense Head', type='Characteristic'), target=Node(id='Creamy Mouthfeel', type='Characteristic'), type='RESULT_IN'), Relationship(source=Node(id='Guinness', type='Beer brand'), target=Node(id='Beer Widget', type='Equipment'), type='INTRODUCED'), Relationship(source=Node(id='Draft', type='Marketing term'), target=Node(id='Guinness', type='Beer brand'), type='USED_FOR'), Relationship(source=Node(id='Draught', type='Marketing term'), target=Node(id='Guinness', type='Beer brand'), type='USED_FOR'), Relationship(source=Node(id='Cask Ales', type='Beer style'), target=Node(id='Schlenkerla Rauchbier', type='Beer brand'), type='SERVED_WITH'), Relationship(source=Node(id='Schlenkerla Rauchbier', type='Beer brand'), target=Node(id='Cask', type='Container'), type='DIRECT_FROM'), Relationship(source=Node(id='Cask', type='Container'), target=Node(id='Pub', type='Location'), type='ARRIVAL_LOCATION'), Relationship(source=Node(id='Cask', type='Container'), target=Node(id='Cellar Temperature', type='Temperature'), type='COOLING_PROCESS'), Relationship(source=Node(id='Cask', type='Container'), target=Node(id='Tap', type='Equipment'), type='TAPPING_PROCESS'), Relationship(source=Node(id='Cask', type='Container'), target=Node(id='Rubber Bung', type='Equipment'), type='OPENING_PROCESS'), Relationship(source=Node(id='Cask', type='Container'), target=Node(id='Hard Spile', type='Equipment'), type='OPENING_PROCESS'), Relationship(source=Node(id='Cask', type='Container'), target=Node(id='Sediment', type='Characteristic'), type='DISTURBANCE_RESULT'), Relationship(source=Node(id='Sediment', type='Characteristic'), target=Node(id='Condition', type='Process'), type='REQUIREMENT'), Relationship(source=Node(id='Condition', type='Process'), target=Node(id='Gravity-Fed', type='Process'), type='COMPLETION'), Relationship(source=Node(id='Bottles', type='Container'), target=Node(id='Filtered Beer', type='Beer type'), type='CONTAINMENT'), Relationship(source=Node(id='Bottle Conditioned Beers', type='Beer type'), target=Node(id='Bottles', type='Container'), type='CONDITIONING_METHOD')], source=Document(metadata={'source': 'beer.txt'}, page_content=' at the Delirium Café in Brussels\\n\\n   Draught beer from a pressurized keg is the most common dispense method\\n   in bars around the world. A metal keg is pressurized with carbon\\n   dioxide (CO[2]) gas which drives the beer to the dispensing tap or\\n   faucet. Some beers, notably stouts, such as Guinness and \"Smooth\"\\n   bitters, such as Boddingtons, may be served with a nitrogen/carbon\\n   dioxide mixture. Nitrogen produces fine bubbles, resulting in a dense\\n   head and a creamy mouthfeel.\\n\\n   In the 1980s Guinness introduced the beer widget, a nitrogen\\n   pressurized ball inside a can which creates a foamy head. The words\\n   \"draft\" and \"draught\" are often used as marketing terms to describe\\n   canned or bottled beers containing a beer widget.\\n\\nCask ales\\n\\n   Schlenkerla Rauchbier direct from the cask\\n   Enlarge\\n   Schlenkerla Rauchbier direct from the cask\\n\\n   Cask ales are unfiltered and unpasteurised. Typically, when a cask\\n   arrives in a pub, it is placed horizontally on a stillage and allowed\\n   to cool to cellar temperature (typically around 13°C / 55.4°F), before\\n   being tapped and vented — a tap is driven through a (usually rubber)\\n   bung at the bottom of one end, and a hard spile or other implement is\\n   used to open a hole in the side of the cask, which is now uppermost.\\n   The act of stillaging and then venting a beer in this manner typically\\n   disturbs all the sediment, so it must be left for a suitable period to\\n   \"drop\" (clear) again, as well as to fully condition — this period can\\n   anywhere from several hours to several days. At this point the beer is\\n   ready to sell, either being pulled through a beer line with a hand\\n   pump, or simply being \"gravity-fed\" directly into the glass.\\n\\nBottles\\n\\n   Most beers are filtered before bottling. See Filtered beer. But some\\n   are bottle conditioned.\\n\\n   Bottle conditioned beers are')),\n",
              " GraphDocument(nodes=[Node(id='Filtered Beer', type='Beer'), Node(id='Bottle Conditioned Beers', type='Beer'), Node(id='Yeast Sediment', type='Sediment'), Node(id='Wheat Beers', type='Beer'), Node(id='Hefeweizen', type='Beer'), Node(id='Cans', type='Container'), Node(id='Sweden', type='Country'), Node(id='Denmark', type='Country'), Node(id='American Beer', type='Beer'), Node(id='Budweiser', type='Beer'), Node(id='Miller', type='Beer'), Node(id='Imported Beers', type='Beer'), Node(id='Micro-Brewed Beers', type='Beer'), Node(id='Serving Temperature', type='Temperature'), Node(id='Pale Lagers', type='Beer'), Node(id='Ales', type='Beer'), Node(id='Stout', type='Beer'), Node(id='Michael Jackson', type='Person'), Node(id='Scale For Serving Temperatures', type='Scale'), Node(id='Light Beers', type='Beer'), Node(id='American Lagers', type='Beer'), Node(id='Australian Lagers', type='Beer'), Node(id='Berliner Weisse', type='Beer'), Node(id='European Lagers', type='Beer'), Node(id='Dark Lagers', type='Beer'), Node(id='Altbier', type='Beer'), Node(id='German Wheat Beers', type='Beer'), Node(id='Cellar Temperature', type='Temperature'), Node(id='British Ale', type='Beer'), Node(id='Belgian Specialities', type='Beer'), Node(id='Room Temperature', type='Temperature'), Node(id='Strong Dark Ales', type='Beer'), Node(id='Trappist', type='Beer'), Node(id='Barley Wine', type='Beer'), Node(id='Culture', type='Social tradition'), Node(id='Gambrinus', type='Person')], relationships=[Relationship(source=Node(id='Filtered Beer', type='Beer'), target=Node(id='Bottle Conditioned Beers', type='Beer'), type='CONDITIONING'), Relationship(source=Node(id='Bottle Conditioned Beers', type='Beer'), target=Node(id='Yeast Sediment', type='Sediment'), type='CONTAINS'), Relationship(source=Node(id='Bottle Conditioned Beers', type='Beer'), target=Node(id='Wheat Beers', type='Beer'), type='CUSTOMARY_WITH'), Relationship(source=Node(id='Wheat Beers', type='Beer'), target=Node(id='Hefeweizen', type='Beer'), type='SERVING_PRACTICE'), Relationship(source=Node(id='Cans', type='Container'), target=Node(id='Sweden', type='Country'), type='SOLD_IN'), Relationship(source=Node(id='Cans', type='Container'), target=Node(id='Denmark', type='Country'), type='NOT_SOLD_IN'), Relationship(source=Node(id='Cans', type='Container'), target=Node(id='American Beer', type='Beer'), type='ASSOCIATED_WITH'), Relationship(source=Node(id='American Beer', type='Beer'), target=Node(id='Budweiser', type='Beer'), type='TYPE_OF'), Relationship(source=Node(id='American Beer', type='Beer'), target=Node(id='Miller', type='Beer'), type='TYPE_OF'), Relationship(source=Node(id='American Beer', type='Beer'), target=Node(id='Imported Beers', type='Beer'), type='NOT_COMMONLY_PURCHASED'), Relationship(source=Node(id='American Beer', type='Beer'), target=Node(id='Micro-Brewed Beers', type='Beer'), type='NOT_COMMONLY_PURCHASED'), Relationship(source=Node(id='Serving Temperature', type='Temperature'), target=Node(id='Pale Lagers', type='Beer'), type='ENJOYED_AT_COLDER_TEMPERATURES'), Relationship(source=Node(id='Serving Temperature', type='Temperature'), target=Node(id='Ales', type='Beer'), type='PERCEIVED_AT_WARMER_TEMPERATURES'), Relationship(source=Node(id='Serving Temperature', type='Temperature'), target=Node(id='Stout', type='Beer'), type='PERCEIVED_AT_WARMER_TEMPERATURES'), Relationship(source=Node(id='Serving Temperature', type='Temperature'), target=Node(id='Michael Jackson', type='Person'), type='PROPOSED_SCALE_FOR_SERVING_TEMPERATURES'), Relationship(source=Node(id='Scale For Serving Temperatures', type='Scale'), target=Node(id='Light Beers', type='Beer'), type='SERVED_WELL_CHILLED'), Relationship(source=Node(id='Scale For Serving Temperatures', type='Scale'), target=Node(id='Berliner Weisse', type='Beer'), type='SERVED_CHILLED'), Relationship(source=Node(id='Scale For Serving Temperatures', type='Scale'), target=Node(id='European Lagers', type='Beer'), type='SERVED_LIGHTLY_CHILLED'), Relationship(source=Node(id='Scale For Serving Temperatures', type='Scale'), target=Node(id='Dark Lagers', type='Beer'), type='SERVED_LIGHTLY_CHILLED'), Relationship(source=Node(id='Scale For Serving Temperatures', type='Scale'), target=Node(id='Altbier', type='Beer'), type='SERVED_LIGHTLY_CHILLED'), Relationship(source=Node(id='Scale For Serving Temperatures', type='Scale'), target=Node(id='German Wheat Beers', type='Beer'), type='SERVED_LIGHTLY_CHILLED'), Relationship(source=Node(id='Scale For Serving Temperatures', type='Scale'), target=Node(id='Cellar Temperature', type='Temperature'), type='SERVED_AT_CELLAR_TEMPERATURE'), Relationship(source=Node(id='Scale For Serving Temperatures', type='Scale'), target=Node(id='British Ale', type='Beer'), type='SERVED_AT_CELLAR_TEMPERATURE'), Relationship(source=Node(id='Scale For Serving Temperatures', type='Scale'), target=Node(id='Belgian Specialities', type='Beer'), type='SERVED_AT_CELLAR_TEMPERATURE'), Relationship(source=Node(id='Scale For Serving Temperatures', type='Scale'), target=Node(id='Room Temperature', type='Temperature'), type='SERVED_AT_ROOM_TEMPERATURE'), Relationship(source=Node(id='Scale For Serving Temperatures', type='Scale'), target=Node(id='Strong Dark Ales', type='Beer'), type='SERVED_AT_ROOM_TEMPERATURE'), Relationship(source=Node(id='Scale For Serving Temperatures', type='Scale'), target=Node(id='Trappist', type='Beer'), type='SERVED_AT_ROOM_TEMPERATURE'), Relationship(source=Node(id='Scale For Serving Temperatures', type='Scale'), target=Node(id='Barley Wine', type='Beer'), type='SERVED_AT_ROOM_TEMPERATURE'), Relationship(source=Node(id='Culture', type='Social tradition'), target=Node(id='Gambrinus', type='Person'), type='ASSOCIATED_WITH')], source=Document(metadata={'source': 'beer.txt'}, page_content=' bottling. See Filtered beer. But some\\n   are bottle conditioned.\\n\\n   Bottle conditioned beers are unfiltered and unpasteurised. It is\\n   usually recommended that the beer is poured slowly, leaving any yeast\\n   sediment at the bottom of the bottle. However, some drinkers prefer to\\n   pour in the yeast, and this practice is customary with wheat beers.\\n   Typically when serving a hefeweizen 90% of the contents is poured and\\n   the remainder swirled to suspend the sediment before pouring it into\\n   the glass.\\n\\nCans\\n\\n   A lot of beer is sold in beer cans, though there is considerable\\n   variation in the proportion between different countries. In Sweden 60%\\n   of beer is sold in cans, in Denmark none at all. People either drink\\n   from the can or pour the beer into a glass. Cans are commonly\\n   associated with cheap, mass-produced American beer such as Budwieser\\n   and Miller. Imported and micro-brewed beers are usually purchased in\\n   beer bottles.\\n\\nServing temperature\\n\\n   The temperature of a beer has an influence on a drinker\\'s experience.\\n   Colder temperatures allow fully attenuated beers such as pale lagers to\\n   be enjoyed for their crispness; while warmer temperatures allow the\\n   more rounded flavours of an ale or a stout to be perceived. Beer writer\\n   Michael Jackson proposes a five-level scale for serving temperatures:\\n   well chilled (7°C/45°F) for \"light\" beers (American and Australian\\n   lagers), chilled (8°C/47°F) for Berliner Weisse, lightly chilled\\n   (9C/48F) for European lagers, all dark lagers, altbier and German wheat\\n   beers, cellar temperature (13°C/55°F) for regular British ale, stout\\n   and most Belgian specialities and room temperature (15.5°C/60°F) for\\n   strong dark ales (especially trappist) and barley wine.\\n\\nCulture\\n\\n   Gambrinus - king of beer\\n   Enlarge\\n   Gambrinus - king of beer\\n\\nSocial context\\n\\n   Various social traditions and activities are associated with beer\\n   drinking,')),\n",
              " GraphDocument(nodes=[Node(id='Beer', type='Beverage')], relationships=[Relationship(source=Node(id='Beer', type='Beverage'), target=Node(id='Social Traditions', type='Activity'), type='ASSOCIATED_WITH'), Relationship(source=Node(id='Beer', type='Beverage'), target=Node(id='Various Societies', type='Country'), type='CONSUMED_IN'), Relationship(source=Node(id='Beer', type='Beverage'), target=Node(id='Vessels', type='Container'), type='DRUNK_FROM'), Relationship(source=Node(id='Beer', type='Beverage'), target=Node(id='Rating', type='Activity'), type='ASSOCIATED_WITH')], source=Document(metadata={'source': 'beer.txt'}, page_content=\" king of beer\\n\\nSocial context\\n\\n   Various social traditions and activities are associated with beer\\n   drinking, such as playing cards, darts or other pub games; attending\\n   beer festivals, or visiting a series of different pubs in one evening;\\n   rating beer; joining an organisation such as CAMRA; or brewing beer at\\n   home. Various drinking games, such as beer pong, and Quarters are also\\n   very popular.\\n\\nInternational consumption\\n\\n   Beer is considered to be a social lubricant in many societies. Beer is\\n   consumed in countries all over the world. There are breweries in Middle\\n   Eastern countries such as Iraq and Syria as well as African countries\\n   (see African beer) and remote countries such as Mongolia. Sales of beer\\n   are four times as much as wine, the second most popular alcoholic\\n   beverage.\\n\\nVessels\\n\\n   Beer is drunk from a variety of vessels, such as a glass, a beer stein,\\n   a mug, a pewter tankard or even a beer bottle or can. Many drinkers\\n   consider that the type of vessel influences their enjoyment of the\\n   beer. In Europe, many breweries produce glassware intended only for\\n   their own beers. Most drinkers expect their beer to be served in a\\n   glass, preferably the glass chosen by the brewery.\\n\\n   The pouring process has an influence on a beer's presentation.\\n\\n   The rate of flow from the tap or other serving vessel, tilt of the\\n   glass, and position of the pour (in the centre or down the side) into\\n   the glass all influence the end result, such as the size and longevity\\n   of the head, lacing (the pattern left by the head as it moves down the\\n   glass as the beer is drunk), and turbulence of the beer and its release\\n   of carbonation.\\n\\n   Unfiltered bottled beers may be served with the addition of the\\n   remaining yeast at the bottom of the bottle to add both flavour and\\n   colour.\\n\\nRating\\n\\n   Rating beer is a recent craze that combines the enjoyment of beer\\n   drinking with the hobby of collecting. People drink beer and then\\n   record their scores and comments on various internet websites. This is\\n   a worldwide activity and people in the USA will\")),\n",
              " GraphDocument(nodes=[Node(id='Internet Websites', type='Website'), Node(id='Usa', type='Country'), Node(id='New Zealand', type='Country'), Node(id='Russia', type='Country'), Node(id='Beer', type='Beverage'), Node(id=\"Brewer'S Yeast\", type='Ingredient'), Node(id='Alcohol', type='Substance'), Node(id='Nutrients', type='Substance'), Node(id='Magnesium', type='Substance'), Node(id='Selenium', type='Substance'), Node(id='Potassium', type='Substance'), Node(id='Phosphorus', type='Substance'), Node(id='Biotin', type='Substance'), Node(id='B Vitamins', type='Substance'), Node(id='Cancer', type='Health condition'), Node(id='Cardiovascular Benefits', type='Health benefit'), Node(id='Beer Belly', type='Health condition'), Node(id='Exercise', type='Activity'), Node(id='Carbohydrates', type='Substance'), Node(id='Alcohol Consumption', type='Activity'), Node(id='Liver Damage', type='Health condition'), Node(id='Cancer Cells', type='Health condition'), Node(id='Alcohol Strength', type='Characteristic'), Node(id='British Ales', type='Beer type'), Node(id='Belgian Beers', type='Beer type'), Node(id='Global Pale Lager', type='Beer type'), Node(id='Brewing Yeast', type='Ingredient'), Node(id='Hürlimann Yeast Strain', type='Ingredient'), Node(id='Samich', type='Beer')], relationships=[Relationship(source=Node(id='Internet Websites', type='Website'), target=Node(id='Scores', type='Data'), type='RECORD'), Relationship(source=Node(id='Internet Websites', type='Website'), target=Node(id='Comments', type='Data'), type='RECORD'), Relationship(source=Node(id='Usa', type='Country'), target=Node(id='New Zealand', type='Country'), type='BEER_SWAP'), Relationship(source=Node(id='Usa', type='Country'), target=Node(id='Russia', type='Country'), type='BEER_SWAP'), Relationship(source=Node(id='People', type='Person'), target=Node(id='Beer', type='Beverage'), type='SWAP'), Relationship(source=Node(id='People', type='Person'), target=Node(id=\"Brewer'S Yeast\", type='Ingredient'), type='CONTAINS'), Relationship(source=Node(id='Beer', type='Beverage'), target=Node(id='Nutrients', type='Substance'), type='CONTAINS'), Relationship(source=Node(id='Beer', type='Beverage'), target=Node(id='Alcohol', type='Substance'), type='CONTAINS'), Relationship(source=Node(id=\"Brewer'S Yeast\", type='Ingredient'), target=Node(id='Nutrients', type='Substance'), type='CONTAINS'), Relationship(source=Node(id='Nutrients', type='Substance'), target=Node(id='Magnesium', type='Substance'), type='CONTAINS'), Relationship(source=Node(id='Nutrients', type='Substance'), target=Node(id='Selenium', type='Substance'), type='CONTAINS'), Relationship(source=Node(id='Nutrients', type='Substance'), target=Node(id='Potassium', type='Substance'), type='CONTAINS'), Relationship(source=Node(id='Nutrients', type='Substance'), target=Node(id='Phosphorus', type='Substance'), type='CONTAINS'), Relationship(source=Node(id='Nutrients', type='Substance'), target=Node(id='Biotin', type='Substance'), type='CONTAINS'), Relationship(source=Node(id='Nutrients', type='Substance'), target=Node(id='B Vitamins', type='Substance'), type='CONTAINS'), Relationship(source=Node(id='Beer', type='Beverage'), target=Node(id='Dark Brew', type='Characteristic'), type='HAS'), Relationship(source=Node(id='Filtered Beer', type='Beverage'), target=Node(id='Nutrients', type='Substance'), type='LOSES'), Relationship(source=Node(id='Japanese Study', type='Study'), target=Node(id='Non-Alcoholic Beer', type='Beverage'), type='FOUND'), Relationship(source=Node(id='Non-Alcoholic Beer', type='Beverage'), target=Node(id='Anti-Cancer Properties', type='Health benefit'), type='POSSESS'), Relationship(source=Node(id='Study', type='Study'), target=Node(id='Nonalcoholic Beer', type='Beverage'), type='FOUND'), Relationship(source=Node(id='Nonalcoholic Beer', type='Beverage'), target=Node(id='Cardiovascular Benefits', type='Health benefit'), type='MIRROR'), Relationship(source=Node(id='Beer Belly', type='Health condition'), target=Node(id='Over-Eating', type='Activity'), type='CAUSE'), Relationship(source=Node(id='Beer Belly', type='Health condition'), target=Node(id='Lack Of Muscle Tone', type='Health condition'), type='CAUSE'), Relationship(source=Node(id='Study', type='Study'), target=Node(id='Binge Drinking', type='Activity'), type='FOUND'), Relationship(source=Node(id='Binge Drinking', type='Activity'), target=Node(id='Beer Belly', type='Health condition'), type='LINK'), Relationship(source=Node(id='Overconsumption', type='Activity'), target=Node(id='Improper Exercise', type='Activity'), type='PROBLEM'), Relationship(source=Node(id='Overconsumption', type='Activity'), target=Node(id='Carbohydrates', type='Substance'), type='PROBLEM'), Relationship(source=Node(id='Alcohol Consumption', type='Activity'), target=Node(id='Liver Damage', type='Health condition'), type='LEAD_TO'), Relationship(source=Node(id='Liver Damage', type='Health condition'), target=Node(id='Cancer Cells', type='Health condition'), type='VULNERABLE_TO'), Relationship(source=Node(id='Beer', type='Beverage'), target=Node(id='Alcohol', type='Substance'), type='CONTAINS'), Relationship(source=Node(id='British Ales', type='Beer type'), target=Node(id='Alcohol Strength', type='Characteristic'), type='AVERAGE'), Relationship(source=Node(id='Belgian Beers', type='Beer type'), target=Node(id='Alcohol Strength', type='Characteristic'), type='AVERAGE'), Relationship(source=Node(id='Global Pale Lager', type='Beer type'), target=Node(id='Alcohol Strength', type='Characteristic'), type='AVERAGE'), Relationship(source=Node(id='Brewing Yeast', type='Ingredient'), target=Node(id='Alcohol', type='Substance'), type='PRODUCE'), Relationship(source=Node(id='Brewing Yeast', type='Ingredient'), target=Node(id='Alcohol Strength', type='Characteristic'), type='LIMIT'), Relationship(source=Node(id='Hürlimann Yeast Strain', type='Ingredient'), target=Node(id='Samich', type='Beer'), type='PRODUCE')], source=Document(metadata={'source': 'beer.txt'}, page_content=' record their scores and comments on various internet websites. This is\\n   a worldwide activity and people in the USA will swap bottles of beer\\n   with people living in New Zealand and Russia. People\\'s scores may be\\n   tallied together to create lists of the most popular beers in each\\n   country as well as the most highly rated beers in the world.\\n\\nHealth effects\\n\\n   Beer contains alcohol which has a number of health risks and benefits.\\n   However, beer includes a wide variety of other agents that are\\n   currently undergoing scientific evaluation.\\n\\n   Brewer\\'s yeast is known to be a rich source of nutrients; therefore, as\\n   expected, beer can contain significant amounts of nutrients, including\\n   magnesium, selenium, potassium, phosphorus, biotin, and B vitamins. In\\n   fact, beer is sometimes referred to as \"liquid bread\" . Typically, the\\n   darker the brew, the more nutrient dense, with some sources maintaining\\n   that filtered beer loses much of its nutrition ,.\\n\\n   A 2005 Japanese study found that non-alcoholic beer may possess strong\\n   anti-cancer properties. Another study found nonalcoholic beer to mirror\\n   the cardiovascular benefits associated with moderate consumption of\\n   alcoholic beverages.\\n\\n   It is considered that over-eating and lack of muscle tone is the main\\n   cause of a beer belly, rather than beer consumption. A recent study,\\n   however, found a link between binge drinking and a beer belly. But with\\n   most overconsumption it is more a problem of improper exercise and\\n   overconsumption of carbohydrates than the product itself .\\n\\n   There is strong evidence that prolonged consumption of alcohol,\\n   especially in high volumes, can not only lead to liver damage but\\n   leaves the organ vulnerable to cancer cells.\\n\\nStrength\\n\\n   The alcohol content of beers varies by local custom. British ales\\n   average around 4% abv, while Belgian beers tend to average 8% abv. The\\n   strength of the typical global pale lager is 5% abv.\\n\\n   Typical brewing yeast cannot reproduce (and therefore cannot produce\\n   alcohol) above 12% abv. However, in the 1980s the Swiss brewery\\n   Hürlimann developed a yeast strain which could get as high as 14% for\\n   their Samich')),\n",
              " GraphDocument(nodes=[Node(id='Hürlimann', type='Person'), Node(id='Yeast Strain', type='Concept'), Node(id='Samichlaus Beer', type='Concept'), Node(id='Champagne Yeasts', type='Concept'), Node(id='Samuel Adams', type='Person'), Node(id='Millennium', type='Concept'), Node(id='Utopias', type='Concept'), Node(id=\"Dogfish Head'S World Wide Stout\", type='Concept'), Node(id='Dogfish Head', type='Person'), Node(id='Britain', type='Location'), Node(id='Hakusekikan Beer Restaurant', type='Concept'), Node(id=\"Hair Of The Dog'S Dave\", type='Concept'), Node(id='Hair Of The Dog', type='Person'), Node(id='Category:Fermented Beverages', type='Concept'), Node(id='Kvass', type='Concept'), Node(id='Sahti', type='Concept'), Node(id='Pulque', type='Concept'), Node(id='Africa', type='Location'), Node(id='Andes, South America', type='Location'), Node(id='Chicha', type='Concept'), Node(id='Bhutan', type='Location'), Node(id='Nepal', type='Location'), Node(id='Tibet', type='Location'), Node(id='Sikkim', type='Location'), Node(id='Chhaang', type='Concept'), Node(id='China', type='Location'), Node(id='Jiǔ', type='Concept'), Node(id='Sulima', type='Concept'), Node(id='Mosuo People', type='Concept'), Node(id='Lijang Yinjiu', type='Concept'), Node(id='Nakhi People', type='Concept'), Node(id='Lijiang', type='Location'), Node(id='Finland', type='Location'), Node(id='Sahti', type='Concept'), Node(id='Indonesia', type='Location'), Node(id='Brem', type='Concept'), Node(id='Japan', type='Location'), Node(id='Sake', type='Concept')], relationships=[Relationship(source=Node(id='Hürlimann', type='Person'), target=Node(id='Yeast Strain', type='Concept'), type='DEVELOPED'), Relationship(source=Node(id='Yeast Strain', type='Concept'), target=Node(id='Samichlaus Beer', type='Concept'), type='USED_FOR'), Relationship(source=Node(id='Some Brewers', type='Concept'), target=Node(id='Champagne Yeasts', type='Concept'), type='USE'), Relationship(source=Node(id='Samuel Adams', type='Person'), target=Node(id='Millennium', type='Concept'), type='REACHED_ABV'), Relationship(source=Node(id='Samuel Adams', type='Person'), target=Node(id='Utopias', type='Concept'), type='REACHED_ABV'), Relationship(source=Node(id='Samuel Adams', type='Person'), target=Node(id='Utopias', type='Concept'), type='SURPASSED_ABV'), Relationship(source=Node(id='Britain', type='Location'), target=Node(id=\"Dogfish Head'S World Wide Stout\", type='Concept'), type='SOLD_IN'), Relationship(source=Node(id='Japan', type='Location'), target=Node(id='Hakusekikan Beer Restaurant', type='Concept'), type='SOLD'), Relationship(source=Node(id='Hakusekikan Beer Restaurant', type='Concept'), target=Node(id='Eisbock', type='Concept'), type='SOLD'), Relationship(source=Node(id='Eisbock', type='Concept'), target=Node(id='28% Abv', type='Concept'), type='BELIEVED_TO_BE'), Relationship(source=Node(id=\"Hair Of The Dog'S Dave\", type='Concept'), target=Node(id='29% Abv', type='Concept'), type='MADE_IN'), Relationship(source=Node(id='Category:Fermented Beverages', type='Concept'), target=Node(id='Kvass', type='Concept'), type='INCLUDES'), Relationship(source=Node(id='Category:Fermented Beverages', type='Concept'), target=Node(id='Sahti', type='Concept'), type='INCLUDES'), Relationship(source=Node(id='Category:Fermented Beverages', type='Concept'), target=Node(id='Pulque', type='Concept'), type='INCLUDES'), Relationship(source=Node(id='Africa', type='Location'), target=Node(id='Local Drinks', type='Concept'), type='MADE_FROM'), Relationship(source=Node(id='Andes, South America', type='Location'), target=Node(id='Chicha', type='Concept'), type='MADE_FROM'), Relationship(source=Node(id='Bhutan', type='Location'), target=Node(id='Chhaang', type='Concept'), type='MADE_FROM'), Relationship(source=Node(id='Nepal', type='Location'), target=Node(id='Chhaang', type='Concept'), type='MADE_FROM'), Relationship(source=Node(id='Tibet', type='Location'), target=Node(id='Chhaang', type='Concept'), type='MADE_FROM'), Relationship(source=Node(id='Sikkim', type='Location'), target=Node(id='Chhaang', type='Concept'), type='MADE_FROM'), Relationship(source=Node(id='China', type='Location'), target=Node(id='Jiǔ', type='Concept'), type='REFERS_TO'), Relationship(source=Node(id='China', type='Location'), target=Node(id='Sulima', type='Concept'), type='MADE_BY'), Relationship(source=Node(id='Mosuo People', type='Concept'), target=Node(id='Sulima', type='Concept'), type='MADE_BY'), Relationship(source=Node(id='China', type='Location'), target=Node(id='Lijiang Yinjiu', type='Concept'), type='MADE_BY'), Relationship(source=Node(id='Nakhi People', type='Concept'), target=Node(id='Lijiang Yinjiu', type='Concept'), type='MADE_BY'), Relationship(source=Node(id='Lijiang', type='Location'), target=Node(id='Lijiang Yinjiu', type='Concept'), type='MADE_BY'), Relationship(source=Node(id='Finland', type='Location'), target=Node(id='Sahti', type='Concept'), type='MADE_IN'), Relationship(source=Node(id='Indonesia', type='Location'), target=Node(id='Brem', type='Concept'), type='MADE_IN'), Relationship(source=Node(id='Japan', type='Location'), target=Node(id='Sake', type='Concept'), type='MADE_IN')], source=Document(metadata={'source': 'beer.txt'}, page_content=\"  Hürlimann developed a yeast strain which could get as high as 14% for\\n   their Samichlaus beer.\\n\\n   Some brewers use champagne yeasts to artificially increase the alcohol\\n   content of their beers. Samuel Adams reached 20% abv with Millennium\\n   and then surpassed that amount to 25.6% abv with Utopias. The strongest\\n   beer sold in Britain was Dogfish Head's World Wide Stout, a 21% abv\\n   stout which was available from UK Safeways in 2003. In Japan in 2005,\\n   the Hakusekikan Beer Restaurant sold an eisbock, strengthened through\\n   freezing, believed to be 28% abv. The beer that is considered to be the\\n   strongest yet made is Hair of the Dog's Dave - a 29% abv barley wine\\n   made in 1994.\\n\\nRelated beverages\\n\\n          See Category:Fermented beverages\\n\\n   There are a number of related beverages such as kvass, sahti and\\n   pulque.\\n     * Africa: Hundreds of local drinks made from millet, sorghum, and\\n       other available starch crops.\\n     * Andes, South America: Chicha, an Andean beverage made from\\n       germinated maize.\\n     * Bhutan, Nepal, Tibet and Sikkim: Chhaang, a popular semi-fermented\\n       rice/millet drink in the eastern Himalaya.\\n     * China: Jiǔ refers to all alcoholic drinks, most of which are\\n       distilled liquors (báijiǔ), but there are traditional grain-based\\n       relatives of beer such as sulima, made by the Mosuo people, and\\n       lijiang yinjiu, made by the Nakhi people, both in the Lijiang\\n       region of Yunnan.\\n     * Finland: Sahti, a traditional Finnish beer.\\n     * Indonesia: Brem, a Balinese fermented rice wine.\\n     * Japan: Sake, a rice-based fermented drink.\\n    \")),\n",
              " GraphDocument(nodes=[Node(id='Japan', type='Country'), Node(id='Sake', type='Drink'), Node(id='Korea', type='Country'), Node(id='Soju', type='Drink'), Node(id='Kyrgyzstan', type='Country'), Node(id='Kazakhstan', type='Country'), Node(id='Mongolia', type='Country'), Node(id='Kumis', type='Drink'), Node(id='Bozo', type='Drink'), Node(id='Mexico', type='Country'), Node(id='Pulque', type='Drink'), Node(id='Russia/Ukraine', type='Country'), Node(id='Kvass', type='Drink'), Node(id='Bouza', type='Drink'), Node(id='Ancient Egyptian', type='Culture'), Node(id='Sudan', type='Country'), Node(id='Celtic Peoples', type='Ethnic group'), Node(id='European Iron Age', type='Historical period'), Node(id='Korma', type='Drink')], relationships=[Relationship(source=Node(id='Japan', type='Country'), target=Node(id='Sake', type='Drink'), type='PRODUCES'), Relationship(source=Node(id='Korea', type='Country'), target=Node(id='Soju', type='Drink'), type='PRODUCES'), Relationship(source=Node(id='Kyrgyzstan', type='Country'), target=Node(id='Kumis', type='Drink'), type='PRODUCES'), Relationship(source=Node(id='Kyrgyzstan', type='Country'), target=Node(id='Bozo', type='Drink'), type='PRODUCES'), Relationship(source=Node(id='Kyrgyzstan', type='Country'), target=Node(id='Kumis', type='Drink'), type='PRODUCES'), Relationship(source=Node(id='Mexico', type='Country'), target=Node(id='Pulque', type='Drink'), type='PRODUCES'), Relationship(source=Node(id='Russia/Ukraine', type='Country'), target=Node(id='Kvass', type='Drink'), type='PRODUCES'), Relationship(source=Node(id='Bouza', type='Drink'), target=Node(id='Sudan', type='Country'), type='ORIGINATES_IN'), Relationship(source=Node(id='Celtic Peoples', type='Ethnic group'), target=Node(id='Korma', type='Drink'), type='CONSUMES')], source=Document(metadata={'source': 'beer.txt'}, page_content='.\\n     * Japan: Sake, a rice-based fermented drink.\\n     * Korea: Soju\\n     * Kyrgyzstan, Kazakhstan, Mongolia: Kumis (in Kyrgyz called kymyz),\\n       is the fermented mare\\'s milk drink popular in many parts of Central\\n       Asia and Mongolia. It is very easy to obtain as it is sold in any\\n       market and at small stands on the side of the highway in rural\\n       areas as a source of income for the local nomads.\\n     * Kyrgyzstan: Bozo is a low alcohol, somewhat porridgey drink made\\n       from millet. The Kyrgyz are also fans of kymyz (see kumis).\\n     * Mexico: Pulque, an indigenous beer made from the fermented sap of\\n       the agave plant.\\n     * Russia/Ukraine: Kvass, a fermented nonalcoholic or mildly alcoholic\\n       beverage.\\n     * Bouza: An ancient Egyptian beer made from bread which is still made\\n       in Sudan.\\n     * Some Celtic peoples of the European Iron Age drank, according to\\n       some classical sources, a type of beer known as korma.\\n\\n   Retrieved from \" http://en.wikipedia.org/wiki/Beer\"\\n   This reference article is mainly selected from the English Wikipedia\\n   with only minor checks and changes (see www.wikipedia.org for details\\n   of authors and sources) and is available under the GNU Free\\n   Documentation License. See also our Disclaimer.\\n'))]"
            ]
          },
          "metadata": {},
          "execution_count": 24
        }
      ]
    },
    {
      "cell_type": "code",
      "source": [
        "graph.add_graph_documents(\n",
        "    graph_documents,\n",
        "    baseEntityLabel=True,\n",
        "    include_source=True\n",
        ")"
      ],
      "metadata": {
        "id": "ib_g3U1d97th"
      },
      "execution_count": null,
      "outputs": []
    },
    {
      "cell_type": "code",
      "source": [
        "# directly show the graph resulting from the given Cypher query\n",
        "default_cypher = \"MATCH (s)-[r:!MENTIONS]->(t) RETURN s,r,t LIMIT 50\""
      ],
      "metadata": {
        "id": "rC-4O5FQ99yH"
      },
      "execution_count": null,
      "outputs": []
    },
    {
      "cell_type": "code",
      "source": [
        "from yfiles_jupyter_graphs import GraphWidget\n",
        "from neo4j import GraphDatabase"
      ],
      "metadata": {
        "id": "K-91BluK_62t"
      },
      "execution_count": null,
      "outputs": []
    },
    {
      "cell_type": "code",
      "source": [
        "try:\n",
        "  import google.colab\n",
        "  from google.colab import output\n",
        "  output.enable_custom_widget_manager()\n",
        "except:\n",
        "  pass"
      ],
      "metadata": {
        "id": "djVL6Gh4_4sV"
      },
      "execution_count": null,
      "outputs": []
    },
    {
      "cell_type": "code",
      "source": [
        "def showGraph(cypher: str = default_cypher):\n",
        "    # create a neo4j session to run queries\n",
        "    driver = GraphDatabase.driver(\n",
        "        uri = os.environ[\"NEO4J_URI\"],\n",
        "        auth = (os.environ[\"NEO4J_USERNAME\"],\n",
        "                os.environ[\"NEO4J_PASSWORD\"]))\n",
        "    session = driver.session()\n",
        "    widget = GraphWidget(graph = session.run(cypher).graph())\n",
        "    widget.node_label_mapping = 'id'\n",
        "    display(widget)\n",
        "    return widget"
      ],
      "metadata": {
        "id": "0Ll2WNnO-Ahf"
      },
      "execution_count": null,
      "outputs": []
    },
    {
      "cell_type": "code",
      "source": [
        "showGraph()"
      ],
      "metadata": {
        "colab": {
          "base_uri": "https://localhost:8080/",
          "height": 1000,
          "referenced_widgets": [
            "2cc1d500a323476797cb0b283ba77c37",
            "2760ddf9351d4825ac35d73b45b1a4f9"
          ]
        },
        "id": "kz-O4c0k-C_4",
        "outputId": "a56fd070-86f5-4910-ab43-bf6170a66dda"
      },
      "execution_count": null,
      "outputs": [
        {
          "output_type": "display_data",
          "data": {
            "text/plain": [
              "GraphWidget(layout=Layout(height='800px', width='100%'))"
            ],
            "application/vnd.jupyter.widget-view+json": {
              "version_major": 2,
              "version_minor": 0,
              "model_id": "2cc1d500a323476797cb0b283ba77c37"
            }
          },
          "metadata": {
            "application/vnd.jupyter.widget-view+json": {
              "colab": {
                "custom_widget_manager": {
                  "url": "https://ssl.gstatic.com/colaboratory-static/widgets/colab-cdn-widget-manager/2b70e893a8ba7c0f/manager.min.js"
                }
              }
            }
          }
        },
        {
          "output_type": "display_data",
          "data": {
            "text/plain": [
              "GraphWidget(layout=Layout(height='800px', width='100%'))"
            ],
            "application/vnd.jupyter.widget-view+json": {
              "version_major": 2,
              "version_minor": 0,
              "model_id": "2cc1d500a323476797cb0b283ba77c37"
            }
          },
          "metadata": {
            "application/vnd.jupyter.widget-view+json": {
              "colab": {
                "custom_widget_manager": {
                  "url": "https://ssl.gstatic.com/colaboratory-static/widgets/colab-cdn-widget-manager/2b70e893a8ba7c0f/manager.min.js"
                }
              }
            }
          }
        }
      ]
    },
    {
      "cell_type": "code",
      "source": [
        "from typing import Tuple, List, Optional"
      ],
      "metadata": {
        "id": "zHSkb7LeBghn"
      },
      "execution_count": null,
      "outputs": []
    },
    {
      "cell_type": "code",
      "source": [
        "from langchain_community.vectorstores import Neo4jVector"
      ],
      "metadata": {
        "id": "TuDVi4vHBjXP"
      },
      "execution_count": null,
      "outputs": []
    },
    {
      "cell_type": "code",
      "source": [
        "from langchain_openai import OpenAIEmbeddings\n",
        "vector_index = Neo4jVector.from_existing_graph(\n",
        "    OpenAIEmbeddings(),\n",
        "    search_type=\"hybrid\",\n",
        "    node_label=\"Document\",\n",
        "    text_node_properties=[\"text\"],\n",
        "    embedding_node_property=\"embedding\"\n",
        ")"
      ],
      "metadata": {
        "id": "M_JloAimBlcK",
        "colab": {
          "base_uri": "https://localhost:8080/"
        },
        "outputId": "f13e9f76-154a-464a-da7b-8bca0ccb9e4c"
      },
      "execution_count": null,
      "outputs": [
        {
          "output_type": "stream",
          "name": "stderr",
          "text": [
            "WARNING:neo4j.notifications:Received notification from DBMS server: {severity: WARNING} {code: Neo.ClientNotification.Statement.FeatureDeprecationWarning} {category: DEPRECATION} {title: This feature is deprecated and will be removed in future versions.} {description: The query used a deprecated procedure. ('db.create.setVectorProperty' has been replaced by 'db.create.setNodeVectorProperty')} {position: line: 1, column: 70, offset: 69} for query: \"UNWIND $data AS row MATCH (n:`Document`) WHERE elementId(n) = row.id CALL db.create.setVectorProperty(n, 'embedding', row.embedding) YIELD node RETURN count(*)\"\n"
          ]
        }
      ]
    },
    {
      "cell_type": "code",
      "source": [
        "vector_index.similarity_search(\"Who is Elizabeth I?\")"
      ],
      "metadata": {
        "colab": {
          "base_uri": "https://localhost:8080/"
        },
        "id": "ownBanwxiAt1",
        "outputId": "2f7ad218-3aaa-4e77-9e4f-2af06f73ac9e"
      },
      "execution_count": null,
      "outputs": [
        {
          "output_type": "execute_result",
          "data": {
            "text/plain": [
              "[Document(metadata={'source': '10th century.txt'}, page_content='\\ntext:  a Christian in 966\\n     * Khazar kingdom is attacked and defeated by Kievan Rus ( 965)\\n     * Vladimir I, Prince of Kievan Rus, baptised a Christian in 988\\n     * Collapse of the central lowland Maya civilization. End of Classic\\n       Maya period, begin Post-Classic Maya.\\n     * Rise of the Toltecs in Mexico.\\n     * Collapse of Great Moravia\\n     * Buddhist temple construction commences at Bagan, Myanmar\\n     * Laguna Copperplate Inscription, Kavi script, inscribed in Luzon,\\n       Philippines, dated Saka year 822 (AD 900).\\n     * The medieval Croatian state becomes a unified kingdom under\\n       Tomislav\\n     * Twentieth century Belgian astronomer Jean Meeus asserts that the\\n       orbits of all nine planets were within the same 90% arc of the\\n       solar system on 1 February 949. The next time it is thought this\\n       will occur is on 6 May 1492.\\n     * Coastal cities on the Malay Peninsula are the seed for the first\\n       recorded Malay kingdoms.\\n     * The Fatimid dynasty arises in eastern Algeria.\\n     * Swedish influence extends to the Black Sea.\\n     * The Christian Nubian kingdom reaches its peak of prosperity and\\n       military power. ( Early history of Sudan)\\n     * The Mississippian culture begins in present day Southern USA.\\n     * The Byzantine empire reaches the height of its military and\\n       economic strength\\n     * Baile Átha Cliath (Dublin) was founded ( 988).\\n     * Reindeer become extinct in Scotland.\\n     * Lions become extinct in Caucasus.\\n\\nSignificant people\\n\\n     * Topiltzin Ce Acatl Quetzalcoatl, semi-legendaric Toltec ruler,\\n       (exact years of his life are unknown).\\n  '),\n",
              " Document(metadata={'source': 'beer.txt'}, page_content='\\ntext: . The\\n   important distinction for ales is that they are fermented at higher\\n   temperatures and thus ferment more quickly than lagers.\\n\\n   Ale is typically fermented at temperatures between 15 and 24 °C (60 and\\n   75 °F). At these temperatures, yeast produces significant amounts of\\n   esters and other secondary flavour and aroma products, and the result\\n   is often a beer with slightly \"fruity\" compounds resembling but not\\n   limited to apple, pear, pineapple, banana, plum, or prune. Typical ales\\n   have a sweeter, fuller body than lagers.\\n\\n   Differences between some ales and lagers can be difficult to\\n   categorise. Steam beer, Kölsch, Alt and some modern British Golden\\n   Summer Beers use elements of both lager and ale production. Baltic\\n   Porter and Bière de Garde may be produced by either lager or ale\\n   methods or a combination of both. However, lager production is\\n   perceived to produce cleaner tasting, dryer and lighter beer than ale.\\n\\nLager\\n\\n   A stein of lager\\n   Enlarge\\n   A stein of lager\\n\\n   Lager is the English name for bottom-fermenting beers of Central\\n   European origin. They are the most commonly-consumed beer in the world.\\n   The name comes from the German lagern (\"to store\"). Lager yeast is a\\n   bottom-fermenting yeast, and typically undergoes primary fermentation\\n   at 7-12 °C (45-55 °F) (the \"fermentation phase\"), and then is given a\\n   long secondary fermentation at 0-4 °C (32-40 °F) (the \"lagering\\n   phase\"). During the secondary stage, the lager clears and mellows. The\\n   cooler conditions also inhibit the natural production of esters and\\n   other byproducts, resulting in a \"crisper\" tasting beer.\\n\\n   Modern methods of producing lager were pioneered by Gabriel Sedlmayr\\n   the Younger, who perfected dark brown lagers at the Spaten Brewery in\\n   Bavaria, and Anton Dreher, who began brewing a lager, probably of\\n   amber-red colour, in Vienna in 1840–1841.'),\n",
              " Document(metadata={'source': '10th century.txt'}, page_content='\\ntext:  Toltec ruler,\\n       (exact years of his life are unknown).\\n     * Abd-ar-rahman III of Cordoba\\n     * Nicephorus II, Emperor of the Eastern Roman Empire (lived 912 -\\n       969, reigned 963 - 969).\\n     * Otto I the Great, Holy Roman Emperor (lived 912 - 973, reigned 936\\n       - 973).\\n     * King Edmund I of England (lived 921 - 946, reigned 939 - 946).\\n     * John I Tzimisces, Emperor of the Eastern Roman Empire (lived 925 -\\n       976, reigned 969 - 976).\\n     * Hugh Capet (lived 938 - 996), first Capetian King of France\\n     * Géza of Hungary, ruler of the Magyars (lived 940 - 997, reigned 970\\n       - 997).\\n     * Otto II, Holy Roman Emperor (lived 955 - 983, reigned 973 - 983).\\n     * Theophanu, wife of Otto II, mother and Regent of Otto III, (lived\\n       956 - 991, reigned 983- 991).\\n     * Tsar Samuil of Bulgaria (lived 958 - 1014, reigned 976 - 1014).\\n     * Vladimir I, Prince of Kievan Rus (lived 958 - 1015).\\n     * Basil II, Emperor of the Eastern Roman Empire, (lived 958 - 1025,\\n       reigned 976 - 1025).\\n     * Otto III, Holy Roman Emperor (lived 980 - 1002, reigned 983 -\\n       1002).\\n     * Ferdowsi Persian poet\\n     * Erik the Red Viking Explorer, founded Greenland\\n     * Ubayd Allah al-Mahdi Billah, founder of the Fatamid dynasty in 909.\\n\\nInventions, discoveries, introductions\\n\\n '),\n",
              " Document(metadata={'source': '10th century.txt'}, page_content='\\ntext:    #copyright\\n\\n10th century\\n\\n2007 Schools Wikipedia Selection. Related subjects: General history\\n\\n   Millennium: 1st millennium BC - 1st millennium - 2nd millennium\\n   Centuries:     9th century - 10th century - 11th century\\n     Decades: 900s 910s 920s 930s 940s 950s 960s 970s 980s 990s\\n\\n   As a means of recording the passage of time, the 10th century was that\\n   century which lasted from 901 to 1000.\\n\\nOverview\\n\\n   The tenth century is usually regarded as a low point in European\\n   history. In China it was also a period of political upheaval. In\\n   Islamdom, however, it was a cultural zenith, especially in Spain.\\n\\n   Medievalist and historian of technology Lynn White said that \"to the\\n   modern eye, it is very nearly the darkest of the Dark Ages,\" but\\n   concluded that \". . . if it was dark, it was the darkness of the womb.\"\\n   Similarly, Helen Waddell wrote that the tenth century was that which\\n   \"in the textbooks disputes with the seventh the bad eminence, the nadir\\n   of the human intellect.\" Even in the fifteenth century, Lorenzo Valla\\n   described it as the Century of Lead and Iron.\\n\\nEvents\\n\\n   This statue of a yogini goddess was created in Kaveripakkam in Tamil\\n   Nadu, India, during the 10th century.\\n   Enlarge\\n   This statue of a yogini goddess was created in Kaveripakkam in Tamil\\n   Nadu, India, during the 10th century.\\n     * The beginning of the Medieval Warm Period\\n     * Viking groups settle in northern France - Norse become Normans\\n     * Foundation of Cluny, first federated monastic order\\n     * Incursions of Magyar (Hungarian) cavalry throughout Western Europe\\n       (47 expeditions in Germany, Italy and France, 899 - 970)\\n     * Mieszko I, first duke of Poland, baptised a Christian in 966\\n     * Khazar kingdom is attacked and defeated by Kievan Rus (')]"
            ]
          },
          "metadata": {},
          "execution_count": 34
        }
      ]
    },
    {
      "cell_type": "code",
      "source": [
        "graph.query(\"CREATE FULLTEXT INDEX entity IF NOT EXISTS FOR (e:__Entity__) ON EACH [e.id]\")"
      ],
      "metadata": {
        "colab": {
          "base_uri": "https://localhost:8080/"
        },
        "id": "e0EXdSStG-Oe",
        "outputId": "5b7e10ab-dfb6-4d08-d87c-12114abdb301"
      },
      "execution_count": null,
      "outputs": [
        {
          "output_type": "execute_result",
          "data": {
            "text/plain": [
              "[]"
            ]
          },
          "metadata": {},
          "execution_count": 35
        }
      ]
    },
    {
      "cell_type": "code",
      "source": [
        "from langchain_core.pydantic_v1 import BaseModel, Field\n",
        "# Extract entities from text\n",
        "class Entities(BaseModel):\n",
        "    \"\"\"Identifying information about entities.\"\"\"\n",
        "\n",
        "    names: List[str] = Field(\n",
        "        ...,\n",
        "        description=\"All the person, organization, or business entities that \"\n",
        "        \"appear in the text\",\n",
        "    )\n"
      ],
      "metadata": {
        "id": "qksArGKrAvie"
      },
      "execution_count": null,
      "outputs": []
    },
    {
      "cell_type": "code",
      "source": [
        "from langchain_core.prompts import ChatPromptTemplate\n",
        "from langchain_core.prompts.prompt import PromptTemplate"
      ],
      "metadata": {
        "id": "Mx6sfpgRBrs-"
      },
      "execution_count": null,
      "outputs": []
    },
    {
      "cell_type": "code",
      "source": [
        "prompt = ChatPromptTemplate.from_messages(\n",
        "    [\n",
        "        (\n",
        "            \"system\",\n",
        "            \"You are extracting organization and person entities from the text.\",\n",
        "        ),\n",
        "        (\n",
        "            \"human\",\n",
        "            \"Use the given format to extract information from the following \"\n",
        "            \"input: {question}\",\n",
        "        ),\n",
        "    ]\n",
        ")"
      ],
      "metadata": {
        "id": "xUobRC1wAx-_"
      },
      "execution_count": null,
      "outputs": []
    },
    {
      "cell_type": "code",
      "source": [
        "entity_chain = prompt | llm.with_structured_output(Entities)"
      ],
      "metadata": {
        "id": "KGR6ocjkA0I_"
      },
      "execution_count": null,
      "outputs": []
    },
    {
      "cell_type": "code",
      "source": [
        "entity_chain.invoke({\"question\": \"When was Beer invented in 10th century\"}).names"
      ],
      "metadata": {
        "colab": {
          "base_uri": "https://localhost:8080/"
        },
        "id": "xPLkIEmkA2R2",
        "outputId": "1460881f-e967-4b60-e874-a121e50cd502"
      },
      "execution_count": null,
      "outputs": [
        {
          "output_type": "execute_result",
          "data": {
            "text/plain": [
              "['Beer', '10th century']"
            ]
          },
          "metadata": {},
          "execution_count": 45
        }
      ]
    },
    {
      "cell_type": "code",
      "source": [
        "from langchain_community.vectorstores.neo4j_vector import remove_lucene_chars"
      ],
      "metadata": {
        "id": "RpbOzL5BA6hW"
      },
      "execution_count": null,
      "outputs": []
    },
    {
      "cell_type": "code",
      "source": [
        "def generate_full_text_query(input: str) -> str:\n",
        "    full_text_query = \"\"\n",
        "    words = [el for el in remove_lucene_chars(input).split() if el]\n",
        "    for word in words[:-1]:\n",
        "        full_text_query += f\" {word}~2 AND\"\n",
        "    full_text_query += f\" {words[-1]}~2\"\n",
        "    return full_text_query.strip()\n",
        "\n",
        "generate_full_text_query('Amerlia Earhart')"
      ],
      "metadata": {
        "id": "7gHCkvGKA86t",
        "colab": {
          "base_uri": "https://localhost:8080/",
          "height": 36
        },
        "outputId": "d1174c3e-3075-423a-ba6b-5223d7d205dd"
      },
      "execution_count": null,
      "outputs": [
        {
          "output_type": "execute_result",
          "data": {
            "text/plain": [
              "'Amerlia~2 AND Earhart~2'"
            ],
            "application/vnd.google.colaboratory.intrinsic+json": {
              "type": "string"
            }
          },
          "metadata": {},
          "execution_count": 42
        }
      ]
    },
    {
      "cell_type": "code",
      "source": [
        "# Fulltext index query\n",
        "def structured_retriever(question: str) -> str:\n",
        "    result = \"\"\n",
        "    entities = entity_chain.invoke({\"question\": question})\n",
        "    for entity in entities.names:\n",
        "        response = graph.query(\n",
        "            \"\"\"CALL db.index.fulltext.queryNodes('entity', $query, {limit:2})\n",
        "            YIELD node,score\n",
        "            CALL {\n",
        "              WITH node\n",
        "              MATCH (node)-[r:!MENTIONS]->(neighbor)\n",
        "              RETURN node.id + ' - ' + type(r) + ' -> ' + neighbor.id AS output\n",
        "              UNION ALL\n",
        "              WITH node\n",
        "              MATCH (node)<-[r:!MENTIONS]-(neighbor)\n",
        "              RETURN neighbor.id + ' - ' + type(r) + ' -> ' +  node.id AS output\n",
        "            }\n",
        "            RETURN output LIMIT 50\n",
        "            \"\"\",\n",
        "            {\"query\": generate_full_text_query(entity)},\n",
        "        )\n",
        "        result += \"\\n\".join([el['output'] for el in response])\n",
        "    return result"
      ],
      "metadata": {
        "id": "kjPkmFJbA_lv"
      },
      "execution_count": null,
      "outputs": []
    },
    {
      "cell_type": "code",
      "source": [
        "print(structured_retriever(\"Was beer invented in 10th century?\"))"
      ],
      "metadata": {
        "colab": {
          "base_uri": "https://localhost:8080/"
        },
        "id": "nIla9QpzBA8u",
        "outputId": "21cb1979-4266-46e1-e080-bd4745253842"
      },
      "execution_count": null,
      "outputs": [
        {
          "output_type": "stream",
          "name": "stdout",
          "text": [
            "Beer - NOTED_BY -> Michael Jackson\n",
            "Beer - ORIGINATED_IN -> Ancient Egypt\n",
            "Beer - ORIGINATED_IN -> Mesopotamia\n",
            "Beer - PRODUCTION_LOCATION -> Europe\n",
            "Beer - PRODUCED_BY -> Monasteries\n",
            "Beer - ADDING -> Sugar\n",
            "Beer - ADDING -> Wort\n",
            "Beer - CONTAINING -> Carbon Dioxide\n",
            "Beer - CONTAINING -> Alcohol\n",
            "Beer - SETTLING -> Yeast\n",
            "Beer - SETTLING -> Trub\n",
            "Beer - INCREASING -> Co2\n",
            "Beer - PRIMED_IN -> Bottle\n",
            "Beer - STORED_IN -> Keg\n",
            "Beer - STORED_IN -> Cask\n",
            "Beer - STORED_IN -> Bottles\n",
            "Beer - HAS -> Dark Brew\n",
            "Beer - CONTAINS -> Alcohol\n",
            "Beer - CONTAINS -> Nutrients\n",
            "Beer - ASSOCIATED_WITH -> Social Traditions\n",
            "Beer - ASSOCIATED_WITH -> Rating\n",
            "Beer - CONSUMED_IN -> Various Societies\n",
            "Beer - DRUNK_FROM -> Vessels\n",
            "Hops - ADDED_TO -> Beer\n",
            "Sugar - ADDED_TO -> Beer\n",
            "Flavouring - ADDED_TO -> Beer\n",
            "Malted Barley - SOURCE_OF -> Beer\n",
            "Yeast - COMPONENT_OF -> Beer\n",
            "Water - COMPONENT_OF -> Beer\n",
            "Starch Source - COMPONENT_OF -> Beer\n",
            "People - SWAP -> Beer\n",
            "Indonesia - MADE_IN -> Brem10Th Century - RELEVANT -> European History\n",
            "10Th Century - RELEVANT -> China\n",
            "10Th Century - OCCURRED -> Political Upheaval\n",
            "10Th Century - CULTURAL_ZENITH -> Islamdom\n",
            "10Th Century - CULTURAL_ZENITH -> Spain\n",
            "10Th Century - STARTED_IN -> Medieval Warm Period\n",
            "10Th Century - FOUNDED_IN -> Cluny\n",
            "Lynn White - COMMENTED_ON -> 10Th Century\n",
            "Helen Waddell - COMMENTED_ON -> 10Th Century\n",
            "Lorenzo Valla - DESCRIBED_AS -> 10Th Century\n"
          ]
        }
      ]
    },
    {
      "cell_type": "code",
      "source": [
        "def retriever(question: str):\n",
        "    print(f\"Search query: {question}\")\n",
        "    structured_data = structured_retriever(question)\n",
        "    #print(structured_data,end='\\n\\n')\n",
        "    unstructured_data = [el.page_content[:50] for el in vector_index.similarity_search(question)]\n",
        "    #print(unstructured_data)\n",
        "    final_data = f\"\"\"Structured data:\n",
        "{structured_data}\n",
        "Unstructured data:\n",
        "{\"#Document \". join(unstructured_data)}\n",
        "\"\"\"\n",
        "\n",
        "    #print(final_data)\n",
        "    return final_data\n",
        "#"
      ],
      "metadata": {
        "id": "Zo1QoB_iBDfO"
      },
      "execution_count": null,
      "outputs": []
    },
    {
      "cell_type": "code",
      "source": [
        "_template = \"\"\"Given the following conversation and a follow up question, rephrase the follow up question to be a standalone question,\n",
        "in its original language.\n",
        "Chat History:\n",
        "{chat_history}\n",
        "Follow Up Input: {question}\n",
        "Standalone question:\"\"\""
      ],
      "metadata": {
        "id": "nDLnOXBTBFaf"
      },
      "execution_count": null,
      "outputs": []
    },
    {
      "cell_type": "code",
      "source": [
        "CONDENSE_QUESTION_PROMPT = PromptTemplate.from_template(_template)"
      ],
      "metadata": {
        "id": "hozfZicpBG2G"
      },
      "execution_count": null,
      "outputs": []
    },
    {
      "cell_type": "code",
      "source": [
        "def _format_chat_history(chat_history: List[Tuple[str, str]]) -> List:\n",
        "    buffer = []\n",
        "    for human, ai in chat_history:\n",
        "        buffer.append(HumanMessage(content=human))\n",
        "        buffer.append(AIMessage(content=ai))\n",
        "    return buffer"
      ],
      "metadata": {
        "id": "A9Oi3AEeBIPf"
      },
      "execution_count": null,
      "outputs": []
    },
    {
      "cell_type": "code",
      "source": [
        "_search_query = RunnableBranch(\n",
        "    # If input includes chat_history, we condense it with the follow-up question\n",
        "    (\n",
        "        RunnableLambda(lambda x: bool(x.get(\"chat_history\"))).with_config(\n",
        "            run_name=\"HasChatHistoryCheck\"\n",
        "        ),  # Condense follow-up question and chat into a standalone_question\n",
        "        RunnablePassthrough.assign(\n",
        "            chat_history=lambda x: _format_chat_history(x[\"chat_history\"])\n",
        "        )\n",
        "        | CONDENSE_QUESTION_PROMPT\n",
        "        | ChatOpenAI(temperature=0)\n",
        "        | StrOutputParser(),\n",
        "    ),\n",
        "    # Else, we have no chat history, so just pass through the question\n",
        "    RunnableLambda(lambda x : x[\"question\"]),\n",
        ")"
      ],
      "metadata": {
        "id": "vXV65bjDBJwO"
      },
      "execution_count": null,
      "outputs": []
    },
    {
      "cell_type": "code",
      "source": [
        "template2 = \"\"\"Answer the question based only on the following context:\n",
        "{context}\n",
        "\n",
        "Question: {question}\n",
        "\n",
        "Answer:\"\"\"\n",
        "\n",
        "template = \"\"\"Answer the question based only on the following context:\n",
        "{context}\n",
        "\n",
        "Question: {question}\n",
        "-> Give Answer 1 using only unstructured data\n",
        "-> Give Answer 2 using only structured data\n",
        "-> Give Answer 3 using both structured and unstructured data\n",
        "-> Evaluate and state which answer is best\n",
        "Answer1:\n",
        "Answer2:\n",
        "Answer3:\n",
        "Evaluation:\n",
        "\"\"\"\n",
        "\n",
        "template1 = \"\"\"Write a 300 word essay divided into 2 pargaphs on the prompt only using the context:\n",
        "{context}\n",
        "\n",
        "Prompt: {question}\n",
        "Answer:\"\"\"\n",
        "\n",
        "#Use natural language and be concise."
      ],
      "metadata": {
        "id": "zuVyoD1iBLgt"
      },
      "execution_count": null,
      "outputs": []
    },
    {
      "cell_type": "code",
      "source": [
        "prompt = ChatPromptTemplate.from_template(template)"
      ],
      "metadata": {
        "id": "ehex9TRGBM4m"
      },
      "execution_count": null,
      "outputs": []
    },
    {
      "cell_type": "code",
      "source": [
        "chain = (\n",
        "    RunnableParallel(\n",
        "        {\n",
        "            \"context\": _search_query | retriever,\n",
        "            \"question\": RunnablePassthrough(),\n",
        "        }\n",
        "    )\n",
        "    | prompt\n",
        "    | llm\n",
        "    | StrOutputParser()\n",
        ")"
      ],
      "metadata": {
        "id": "UI6LVwkpBOOA"
      },
      "execution_count": null,
      "outputs": []
    },
    {
      "cell_type": "code",
      "source": [
        "print(chain.invoke({\"question\": \"Did 10th century have any influence on beer\"}))"
      ],
      "metadata": {
        "colab": {
          "base_uri": "https://localhost:8080/"
        },
        "id": "GZAq-jz3BOrn",
        "outputId": "a2fc9694-cb86-4498-b219-644d65eb2de8"
      },
      "execution_count": null,
      "outputs": [
        {
          "output_type": "stream",
          "name": "stdout",
          "text": [
            "Search query: Did 10th century have any influence on beer\n",
            "Answer1: Yes, the unstructured data mentions the 10th century in relation to beer.\n",
            "\n",
            "Answer2: No, the structured data does not provide any direct information about the influence of the 10th century on beer.\n",
            "\n",
            "Answer3: Yes, the unstructured data mentions the 10th century in relation to beer, and the structured data provides information about the production, ingredients, and social traditions associated with beer during that time period.\n",
            "\n",
            "Evaluation: Answer 3 is the best as it combines information from both structured and unstructured data to provide a comprehensive answer.\n"
          ]
        }
      ]
    },
    {
      "cell_type": "code",
      "source": [
        "chain.invoke(\n",
        "    {\n",
        "        \"question\": \"When was she born?\",\n",
        "        \"chat_history\": [(\"Which house did Elizabeth I belong to?\", \"House Of Tudor\")],\n",
        "    }\n",
        ")"
      ],
      "metadata": {
        "colab": {
          "base_uri": "https://localhost:8080/",
          "height": 53
        },
        "id": "b8bO9V_MIBZ5",
        "outputId": "62c4a5b2-e175-4f5d-a51f-36ea65044b28"
      },
      "execution_count": null,
      "outputs": [
        {
          "output_type": "stream",
          "name": "stdout",
          "text": [
            "Search query: When was Elizabeth I born?\n"
          ]
        },
        {
          "output_type": "execute_result",
          "data": {
            "text/plain": [
              "'Elizabeth I was born on 7 September 1533.'"
            ],
            "application/vnd.google.colaboratory.intrinsic+json": {
              "type": "string"
            }
          },
          "metadata": {},
          "execution_count": 52
        }
      ]
    },
    {
      "cell_type": "code",
      "source": [],
      "metadata": {
        "id": "qyIlAGROIUKC"
      },
      "execution_count": null,
      "outputs": []
    }
  ]
}